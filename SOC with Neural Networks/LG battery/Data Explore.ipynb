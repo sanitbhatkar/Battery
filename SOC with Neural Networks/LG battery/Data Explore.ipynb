{
 "cells": [
  {
   "cell_type": "code",
   "execution_count": 299,
   "id": "5cf33590",
   "metadata": {},
   "outputs": [],
   "source": [
    "import glob"
   ]
  },
  {
   "cell_type": "code",
   "execution_count": 300,
   "id": "1f298cf8",
   "metadata": {},
   "outputs": [],
   "source": [
    "data_path = r\"E:\\Batteries\\Battery Data\\LG data\\LG_HG2_Original_Dataset_McMasterUniversity_Jan_2020\""
   ]
  },
  {
   "cell_type": "markdown",
   "id": "73c61da7",
   "metadata": {},
   "source": [
    "__Listing all CSV files__"
   ]
  },
  {
   "cell_type": "code",
   "execution_count": 301,
   "id": "fd77b72e",
   "metadata": {},
   "outputs": [],
   "source": [
    "csv_file_list = []\n",
    "\n",
    "folders = os.listdir(data_path)\n",
    "\n",
    "for folder in folders:\n",
    "    \n",
    "    d = os.path.join(data_path,folder)\n",
    "    \n",
    "    if os.path.isdir(d):\n",
    "        \n",
    "#         print('\\n')\n",
    "#         print(d)\n",
    "        files = glob.glob(d + \"/*.csv\")\n",
    "#         print(files)\n",
    "    \n",
    "        csv_file_list.append(files)\n",
    "        \n",
    "csv_files = [all_files for folder in csv_file_list for all_files in folder]"
   ]
  },
  {
   "cell_type": "markdown",
   "id": "977b4788",
   "metadata": {},
   "source": [
    "__Choice of the folder for exploring the data__"
   ]
  },
  {
   "cell_type": "code",
   "execution_count": 126,
   "id": "df679f59",
   "metadata": {},
   "outputs": [],
   "source": [
    "folder_option = csv_file_list[3]"
   ]
  },
  {
   "cell_type": "markdown",
   "id": "73138d53",
   "metadata": {},
   "source": [
    "__Cleaning the imported data__"
   ]
  },
  {
   "cell_type": "code",
   "execution_count": 127,
   "id": "34b249d3",
   "metadata": {},
   "outputs": [],
   "source": [
    "i = 0\n",
    "\n",
    "df = pd.read_csv(folder_option[i], header=[25,26], index_col=0, parse_dates=True)\n",
    "df.drop(df.columns[-1], axis = 1,inplace = True)\n",
    "df.columns = df.columns.droplevel(-1)"
   ]
  },
  {
   "cell_type": "code",
   "execution_count": 128,
   "id": "8c895d40",
   "metadata": {},
   "outputs": [],
   "source": [
    "for i in np.arange(1,len(folder_option),1):\n",
    "    \n",
    "    df2 = pd.read_csv(folder_option[i], header=[25,26], index_col=0, parse_dates=True)\n",
    "    df2.drop(df2.columns[-1], axis = 1,inplace = True)\n",
    "    df2.columns = df2.columns.droplevel(-1)\n",
    "    \n",
    "    df = pd.concat([df,df2],axis = 0)    "
   ]
  },
  {
   "cell_type": "code",
   "execution_count": 129,
   "id": "ef907fac",
   "metadata": {},
   "outputs": [],
   "source": [
    "df_sorted = (df.sort_index())"
   ]
  },
  {
   "cell_type": "markdown",
   "id": "b7e57001",
   "metadata": {},
   "source": [
    "In the dataset there are some pause and stop values (['PAU','STO']) where the current is zero. We have romoved such values from the dataframe."
   ]
  },
  {
   "cell_type": "code",
   "execution_count": 130,
   "id": "8056149e",
   "metadata": {},
   "outputs": [],
   "source": [
    "df_sorted = df_sorted[~df_sorted['Status'].isin(['PAU','STO'])]"
   ]
  },
  {
   "cell_type": "code",
   "execution_count": 131,
   "id": "7ca01cd8",
   "metadata": {},
   "outputs": [
    {
     "data": {
      "text/plain": [
       "array(['DCH', 'CHA', 'TABLE'], dtype=object)"
      ]
     },
     "execution_count": 131,
     "metadata": {},
     "output_type": "execute_result"
    }
   ],
   "source": [
    "df_sorted['Status'].unique()"
   ]
  },
  {
   "cell_type": "markdown",
   "id": "fa97e90f",
   "metadata": {},
   "source": [
    "__Understanding the Sequence and Frequency of the cycles__"
   ]
  },
  {
   "cell_type": "code",
   "execution_count": 132,
   "id": "009d2823",
   "metadata": {},
   "outputs": [],
   "source": [
    "df3 = pd.DataFrame(df_sorted['Status'])\n",
    "df3['prev_value'] = df3['Status'].shift(1)\n",
    "df3['seq_num'] = (df3['Status'] != df3['prev_value']).cumsum()\n",
    "counts = df3.groupby(['seq_num','Status']).size().reset_index(name=\"count\")"
   ]
  },
  {
   "cell_type": "markdown",
   "id": "a61adcf2",
   "metadata": {},
   "source": [
    "__Understanding the Sequence and Frequency of the Procedure__"
   ]
  },
  {
   "cell_type": "code",
   "execution_count": 150,
   "id": "f08131d1",
   "metadata": {},
   "outputs": [],
   "source": [
    "df3 = pd.DataFrame(df_sorted['Procedure'])\n",
    "df3['prev_value'] = df3['Procedure'].shift(1)\n",
    "df3['seq_num'] = (df3['Procedure'] != df3['prev_value']).cumsum()\n",
    "counts = df3.groupby(['seq_num','Procedure']).size().reset_index(name=\"count\")"
   ]
  },
  {
   "cell_type": "code",
   "execution_count": 151,
   "id": "5417940f",
   "metadata": {
    "scrolled": true
   },
   "outputs": [
    {
     "data": {
      "text/html": [
       "<div>\n",
       "<style scoped>\n",
       "    .dataframe tbody tr th:only-of-type {\n",
       "        vertical-align: middle;\n",
       "    }\n",
       "\n",
       "    .dataframe tbody tr th {\n",
       "        vertical-align: top;\n",
       "    }\n",
       "\n",
       "    .dataframe thead th {\n",
       "        text-align: right;\n",
       "    }\n",
       "</style>\n",
       "<table border=\"1\" class=\"dataframe\">\n",
       "  <thead>\n",
       "    <tr style=\"text-align: right;\">\n",
       "      <th></th>\n",
       "      <th>seq_num</th>\n",
       "      <th>Procedure</th>\n",
       "      <th>count</th>\n",
       "    </tr>\n",
       "  </thead>\n",
       "  <tbody>\n",
       "    <tr>\n",
       "      <th>0</th>\n",
       "      <td>1</td>\n",
       "      <td>HPPC_4pulse</td>\n",
       "      <td>777</td>\n",
       "    </tr>\n",
       "    <tr>\n",
       "      <th>1</th>\n",
       "      <td>2</td>\n",
       "      <td>HPPC_Multi_Pulse</td>\n",
       "      <td>28</td>\n",
       "    </tr>\n",
       "    <tr>\n",
       "      <th>2</th>\n",
       "      <td>3</td>\n",
       "      <td>HPPC_4pulse</td>\n",
       "      <td>808</td>\n",
       "    </tr>\n",
       "    <tr>\n",
       "      <th>3</th>\n",
       "      <td>4</td>\n",
       "      <td>HPPC_Multi_Pulse</td>\n",
       "      <td>34</td>\n",
       "    </tr>\n",
       "    <tr>\n",
       "      <th>4</th>\n",
       "      <td>5</td>\n",
       "      <td>HPPC_4pulse</td>\n",
       "      <td>808</td>\n",
       "    </tr>\n",
       "    <tr>\n",
       "      <th>5</th>\n",
       "      <td>6</td>\n",
       "      <td>HPPC_Multi_Pulse</td>\n",
       "      <td>94</td>\n",
       "    </tr>\n",
       "    <tr>\n",
       "      <th>6</th>\n",
       "      <td>7</td>\n",
       "      <td>HPPC_4pulse</td>\n",
       "      <td>808</td>\n",
       "    </tr>\n",
       "    <tr>\n",
       "      <th>7</th>\n",
       "      <td>8</td>\n",
       "      <td>HPPC_Multi_Pulse</td>\n",
       "      <td>94</td>\n",
       "    </tr>\n",
       "    <tr>\n",
       "      <th>8</th>\n",
       "      <td>9</td>\n",
       "      <td>HPPC_4pulse</td>\n",
       "      <td>808</td>\n",
       "    </tr>\n",
       "    <tr>\n",
       "      <th>9</th>\n",
       "      <td>10</td>\n",
       "      <td>HPPC_Multi_Pulse</td>\n",
       "      <td>94</td>\n",
       "    </tr>\n",
       "    <tr>\n",
       "      <th>10</th>\n",
       "      <td>11</td>\n",
       "      <td>HPPC_4pulse</td>\n",
       "      <td>808</td>\n",
       "    </tr>\n",
       "    <tr>\n",
       "      <th>11</th>\n",
       "      <td>12</td>\n",
       "      <td>HPPC_Multi_Pulse</td>\n",
       "      <td>94</td>\n",
       "    </tr>\n",
       "    <tr>\n",
       "      <th>12</th>\n",
       "      <td>13</td>\n",
       "      <td>HPPC_4pulse</td>\n",
       "      <td>808</td>\n",
       "    </tr>\n",
       "    <tr>\n",
       "      <th>13</th>\n",
       "      <td>14</td>\n",
       "      <td>HPPC_Multi_Pulse</td>\n",
       "      <td>94</td>\n",
       "    </tr>\n",
       "    <tr>\n",
       "      <th>14</th>\n",
       "      <td>15</td>\n",
       "      <td>HPPC_4pulse</td>\n",
       "      <td>808</td>\n",
       "    </tr>\n",
       "    <tr>\n",
       "      <th>15</th>\n",
       "      <td>16</td>\n",
       "      <td>HPPC_Multi_Pulse</td>\n",
       "      <td>94</td>\n",
       "    </tr>\n",
       "    <tr>\n",
       "      <th>16</th>\n",
       "      <td>17</td>\n",
       "      <td>HPPC_4pulse</td>\n",
       "      <td>808</td>\n",
       "    </tr>\n",
       "    <tr>\n",
       "      <th>17</th>\n",
       "      <td>18</td>\n",
       "      <td>HPPC_Multi_Pulse</td>\n",
       "      <td>94</td>\n",
       "    </tr>\n",
       "    <tr>\n",
       "      <th>18</th>\n",
       "      <td>19</td>\n",
       "      <td>HPPC_4pulse</td>\n",
       "      <td>779</td>\n",
       "    </tr>\n",
       "    <tr>\n",
       "      <th>19</th>\n",
       "      <td>20</td>\n",
       "      <td>HPPC_Multi_Pulse</td>\n",
       "      <td>40</td>\n",
       "    </tr>\n",
       "    <tr>\n",
       "      <th>20</th>\n",
       "      <td>21</td>\n",
       "      <td>HPPC_4pulse</td>\n",
       "      <td>668</td>\n",
       "    </tr>\n",
       "    <tr>\n",
       "      <th>21</th>\n",
       "      <td>22</td>\n",
       "      <td>HPPC_Multi_Pulse</td>\n",
       "      <td>50</td>\n",
       "    </tr>\n",
       "    <tr>\n",
       "      <th>22</th>\n",
       "      <td>23</td>\n",
       "      <td>NN_Char_Charge</td>\n",
       "      <td>89</td>\n",
       "    </tr>\n",
       "    <tr>\n",
       "      <th>23</th>\n",
       "      <td>24</td>\n",
       "      <td>LG_HG2_NN_Char</td>\n",
       "      <td>2327</td>\n",
       "    </tr>\n",
       "    <tr>\n",
       "      <th>24</th>\n",
       "      <td>25</td>\n",
       "      <td>NN_Char_Charge</td>\n",
       "      <td>87</td>\n",
       "    </tr>\n",
       "    <tr>\n",
       "      <th>25</th>\n",
       "      <td>26</td>\n",
       "      <td>LG_HG2_NN_Char</td>\n",
       "      <td>27</td>\n",
       "    </tr>\n",
       "    <tr>\n",
       "      <th>26</th>\n",
       "      <td>27</td>\n",
       "      <td>NN_Char_Charge</td>\n",
       "      <td>180</td>\n",
       "    </tr>\n",
       "    <tr>\n",
       "      <th>27</th>\n",
       "      <td>28</td>\n",
       "      <td>LG_HG2_CyclesA</td>\n",
       "      <td>152955</td>\n",
       "    </tr>\n",
       "    <tr>\n",
       "      <th>28</th>\n",
       "      <td>29</td>\n",
       "      <td>NN_Char_Charge</td>\n",
       "      <td>85</td>\n",
       "    </tr>\n",
       "    <tr>\n",
       "      <th>29</th>\n",
       "      <td>30</td>\n",
       "      <td>LG_HG2_CyclesA</td>\n",
       "      <td>49909</td>\n",
       "    </tr>\n",
       "    <tr>\n",
       "      <th>30</th>\n",
       "      <td>31</td>\n",
       "      <td>NN_Char_Charge</td>\n",
       "      <td>85</td>\n",
       "    </tr>\n",
       "    <tr>\n",
       "      <th>31</th>\n",
       "      <td>32</td>\n",
       "      <td>LG_HG2_CyclesA</td>\n",
       "      <td>92636</td>\n",
       "    </tr>\n",
       "    <tr>\n",
       "      <th>32</th>\n",
       "      <td>33</td>\n",
       "      <td>NN_Char_Charge</td>\n",
       "      <td>85</td>\n",
       "    </tr>\n",
       "    <tr>\n",
       "      <th>33</th>\n",
       "      <td>34</td>\n",
       "      <td>LG_HG2_CyclesA</td>\n",
       "      <td>33960</td>\n",
       "    </tr>\n",
       "    <tr>\n",
       "      <th>34</th>\n",
       "      <td>35</td>\n",
       "      <td>NN_Char_Charge</td>\n",
       "      <td>85</td>\n",
       "    </tr>\n",
       "    <tr>\n",
       "      <th>35</th>\n",
       "      <td>36</td>\n",
       "      <td>LG_HG2_CyclesA</td>\n",
       "      <td>69340</td>\n",
       "    </tr>\n",
       "    <tr>\n",
       "      <th>36</th>\n",
       "      <td>37</td>\n",
       "      <td>NN_Char_Charge</td>\n",
       "      <td>85</td>\n",
       "    </tr>\n",
       "    <tr>\n",
       "      <th>37</th>\n",
       "      <td>38</td>\n",
       "      <td>LG_HG2_CyclesA</td>\n",
       "      <td>72955</td>\n",
       "    </tr>\n",
       "    <tr>\n",
       "      <th>38</th>\n",
       "      <td>39</td>\n",
       "      <td>NN_Char_Charge</td>\n",
       "      <td>85</td>\n",
       "    </tr>\n",
       "    <tr>\n",
       "      <th>39</th>\n",
       "      <td>40</td>\n",
       "      <td>LG_HG2_CyclesB</td>\n",
       "      <td>300</td>\n",
       "    </tr>\n",
       "    <tr>\n",
       "      <th>40</th>\n",
       "      <td>41</td>\n",
       "      <td>NN_Char_Charge</td>\n",
       "      <td>83</td>\n",
       "    </tr>\n",
       "    <tr>\n",
       "      <th>41</th>\n",
       "      <td>42</td>\n",
       "      <td>LG_HG2_CyclesB</td>\n",
       "      <td>61624</td>\n",
       "    </tr>\n",
       "    <tr>\n",
       "      <th>42</th>\n",
       "      <td>43</td>\n",
       "      <td>NN_Char_Charge</td>\n",
       "      <td>88</td>\n",
       "    </tr>\n",
       "    <tr>\n",
       "      <th>43</th>\n",
       "      <td>44</td>\n",
       "      <td>LG_HG2_CyclesB</td>\n",
       "      <td>5326</td>\n",
       "    </tr>\n",
       "    <tr>\n",
       "      <th>44</th>\n",
       "      <td>45</td>\n",
       "      <td>NN_Char_Charge</td>\n",
       "      <td>20</td>\n",
       "    </tr>\n",
       "    <tr>\n",
       "      <th>45</th>\n",
       "      <td>46</td>\n",
       "      <td>LG_HG2_CyclesB</td>\n",
       "      <td>7086</td>\n",
       "    </tr>\n",
       "    <tr>\n",
       "      <th>46</th>\n",
       "      <td>47</td>\n",
       "      <td>NN_Char_Charge</td>\n",
       "      <td>19</td>\n",
       "    </tr>\n",
       "    <tr>\n",
       "      <th>47</th>\n",
       "      <td>48</td>\n",
       "      <td>LG_HG2_CyclesB</td>\n",
       "      <td>5760</td>\n",
       "    </tr>\n",
       "    <tr>\n",
       "      <th>48</th>\n",
       "      <td>49</td>\n",
       "      <td>NN_Char_Charge</td>\n",
       "      <td>20</td>\n",
       "    </tr>\n",
       "    <tr>\n",
       "      <th>49</th>\n",
       "      <td>50</td>\n",
       "      <td>LG_HG2_CyclesB</td>\n",
       "      <td>1847</td>\n",
       "    </tr>\n",
       "    <tr>\n",
       "      <th>50</th>\n",
       "      <td>51</td>\n",
       "      <td>NN_Char_Charge</td>\n",
       "      <td>19</td>\n",
       "    </tr>\n",
       "    <tr>\n",
       "      <th>51</th>\n",
       "      <td>52</td>\n",
       "      <td>LG_HG2_CyclesB</td>\n",
       "      <td>8384</td>\n",
       "    </tr>\n",
       "    <tr>\n",
       "      <th>52</th>\n",
       "      <td>53</td>\n",
       "      <td>NN_Char_Charge</td>\n",
       "      <td>20</td>\n",
       "    </tr>\n",
       "    <tr>\n",
       "      <th>53</th>\n",
       "      <td>54</td>\n",
       "      <td>LG_HG2_CyclesB</td>\n",
       "      <td>1924</td>\n",
       "    </tr>\n",
       "    <tr>\n",
       "      <th>54</th>\n",
       "      <td>55</td>\n",
       "      <td>NN_Char_Charge</td>\n",
       "      <td>10</td>\n",
       "    </tr>\n",
       "  </tbody>\n",
       "</table>\n",
       "</div>"
      ],
      "text/plain": [
       "    seq_num         Procedure   count\n",
       "0         1       HPPC_4pulse     777\n",
       "1         2  HPPC_Multi_Pulse      28\n",
       "2         3       HPPC_4pulse     808\n",
       "3         4  HPPC_Multi_Pulse      34\n",
       "4         5       HPPC_4pulse     808\n",
       "5         6  HPPC_Multi_Pulse      94\n",
       "6         7       HPPC_4pulse     808\n",
       "7         8  HPPC_Multi_Pulse      94\n",
       "8         9       HPPC_4pulse     808\n",
       "9        10  HPPC_Multi_Pulse      94\n",
       "10       11       HPPC_4pulse     808\n",
       "11       12  HPPC_Multi_Pulse      94\n",
       "12       13       HPPC_4pulse     808\n",
       "13       14  HPPC_Multi_Pulse      94\n",
       "14       15       HPPC_4pulse     808\n",
       "15       16  HPPC_Multi_Pulse      94\n",
       "16       17       HPPC_4pulse     808\n",
       "17       18  HPPC_Multi_Pulse      94\n",
       "18       19       HPPC_4pulse     779\n",
       "19       20  HPPC_Multi_Pulse      40\n",
       "20       21       HPPC_4pulse     668\n",
       "21       22  HPPC_Multi_Pulse      50\n",
       "22       23    NN_Char_Charge      89\n",
       "23       24    LG_HG2_NN_Char    2327\n",
       "24       25    NN_Char_Charge      87\n",
       "25       26    LG_HG2_NN_Char      27\n",
       "26       27    NN_Char_Charge     180\n",
       "27       28    LG_HG2_CyclesA  152955\n",
       "28       29    NN_Char_Charge      85\n",
       "29       30    LG_HG2_CyclesA   49909\n",
       "30       31    NN_Char_Charge      85\n",
       "31       32    LG_HG2_CyclesA   92636\n",
       "32       33    NN_Char_Charge      85\n",
       "33       34    LG_HG2_CyclesA   33960\n",
       "34       35    NN_Char_Charge      85\n",
       "35       36    LG_HG2_CyclesA   69340\n",
       "36       37    NN_Char_Charge      85\n",
       "37       38    LG_HG2_CyclesA   72955\n",
       "38       39    NN_Char_Charge      85\n",
       "39       40    LG_HG2_CyclesB     300\n",
       "40       41    NN_Char_Charge      83\n",
       "41       42    LG_HG2_CyclesB   61624\n",
       "42       43    NN_Char_Charge      88\n",
       "43       44    LG_HG2_CyclesB    5326\n",
       "44       45    NN_Char_Charge      20\n",
       "45       46    LG_HG2_CyclesB    7086\n",
       "46       47    NN_Char_Charge      19\n",
       "47       48    LG_HG2_CyclesB    5760\n",
       "48       49    NN_Char_Charge      20\n",
       "49       50    LG_HG2_CyclesB    1847\n",
       "50       51    NN_Char_Charge      19\n",
       "51       52    LG_HG2_CyclesB    8384\n",
       "52       53    NN_Char_Charge      20\n",
       "53       54    LG_HG2_CyclesB    1924\n",
       "54       55    NN_Char_Charge      10"
      ]
     },
     "execution_count": 151,
     "metadata": {},
     "output_type": "execute_result"
    }
   ],
   "source": [
    "counts"
   ]
  },
  {
   "cell_type": "code",
   "execution_count": null,
   "id": "8973a081",
   "metadata": {},
   "outputs": [],
   "source": []
  },
  {
   "cell_type": "markdown",
   "id": "65ba95ee",
   "metadata": {},
   "source": [
    "__Converting Time Index to Seconds__"
   ]
  },
  {
   "cell_type": "code",
   "execution_count": 133,
   "id": "ff7a2971",
   "metadata": {},
   "outputs": [],
   "source": [
    "df_sorted['time_diff_sec'] = (df_sorted.index -df_sorted.index[0]).total_seconds()"
   ]
  },
  {
   "cell_type": "code",
   "execution_count": 134,
   "id": "a53140ea",
   "metadata": {},
   "outputs": [
    {
     "data": {
      "text/html": [
       "<div>\n",
       "<style scoped>\n",
       "    .dataframe tbody tr th:only-of-type {\n",
       "        vertical-align: middle;\n",
       "    }\n",
       "\n",
       "    .dataframe tbody tr th {\n",
       "        vertical-align: top;\n",
       "    }\n",
       "\n",
       "    .dataframe thead th {\n",
       "        text-align: right;\n",
       "    }\n",
       "</style>\n",
       "<table border=\"1\" class=\"dataframe\">\n",
       "  <thead>\n",
       "    <tr style=\"text-align: right;\">\n",
       "      <th>Time Stamp</th>\n",
       "      <th>Step</th>\n",
       "      <th>Status</th>\n",
       "      <th>Prog Time</th>\n",
       "      <th>Step Time</th>\n",
       "      <th>Cycle</th>\n",
       "      <th>Cycle Level</th>\n",
       "      <th>Procedure</th>\n",
       "      <th>Voltage</th>\n",
       "      <th>Current</th>\n",
       "      <th>Temperature</th>\n",
       "      <th>Capacity</th>\n",
       "      <th>WhAccu</th>\n",
       "      <th>Cnt</th>\n",
       "      <th>time_diff_sec</th>\n",
       "    </tr>\n",
       "  </thead>\n",
       "  <tbody>\n",
       "    <tr>\n",
       "      <th>2018-11-02 18:30:23</th>\n",
       "      <td>2</td>\n",
       "      <td>DCH</td>\n",
       "      <td>03:29:33.069</td>\n",
       "      <td>00:00:00.199</td>\n",
       "      <td>1</td>\n",
       "      <td>1</td>\n",
       "      <td>HPPC_4pulse</td>\n",
       "      <td>4.13171</td>\n",
       "      <td>-3.00106</td>\n",
       "      <td>38.17255</td>\n",
       "      <td>-0.00008</td>\n",
       "      <td>-0.00034</td>\n",
       "      <td>12.0</td>\n",
       "      <td>0.0</td>\n",
       "    </tr>\n",
       "    <tr>\n",
       "      <th>2018-11-02 18:30:23</th>\n",
       "      <td>2</td>\n",
       "      <td>DCH</td>\n",
       "      <td>03:29:32.971</td>\n",
       "      <td>00:00:00.101</td>\n",
       "      <td>1</td>\n",
       "      <td>1</td>\n",
       "      <td>HPPC_4pulse</td>\n",
       "      <td>4.14722</td>\n",
       "      <td>-3.00361</td>\n",
       "      <td>38.17255</td>\n",
       "      <td>0.00000</td>\n",
       "      <td>0.00000</td>\n",
       "      <td>12.0</td>\n",
       "      <td>0.0</td>\n",
       "    </tr>\n",
       "    <tr>\n",
       "      <th>2018-11-02 18:30:24</th>\n",
       "      <td>2</td>\n",
       "      <td>DCH</td>\n",
       "      <td>03:29:34.071</td>\n",
       "      <td>00:00:01.201</td>\n",
       "      <td>1</td>\n",
       "      <td>1</td>\n",
       "      <td>HPPC_4pulse</td>\n",
       "      <td>4.12042</td>\n",
       "      <td>-2.99850</td>\n",
       "      <td>38.17255</td>\n",
       "      <td>-0.00092</td>\n",
       "      <td>-0.00378</td>\n",
       "      <td>12.0</td>\n",
       "      <td>1.0</td>\n",
       "    </tr>\n",
       "    <tr>\n",
       "      <th>2018-11-02 18:30:24</th>\n",
       "      <td>2</td>\n",
       "      <td>DCH</td>\n",
       "      <td>03:29:33.972</td>\n",
       "      <td>00:00:01.102</td>\n",
       "      <td>1</td>\n",
       "      <td>1</td>\n",
       "      <td>HPPC_4pulse</td>\n",
       "      <td>4.12092</td>\n",
       "      <td>-2.99850</td>\n",
       "      <td>38.17255</td>\n",
       "      <td>-0.00083</td>\n",
       "      <td>-0.00343</td>\n",
       "      <td>12.0</td>\n",
       "      <td>1.0</td>\n",
       "    </tr>\n",
       "    <tr>\n",
       "      <th>2018-11-02 18:30:24</th>\n",
       "      <td>2</td>\n",
       "      <td>DCH</td>\n",
       "      <td>03:29:33.870</td>\n",
       "      <td>00:00:01.000</td>\n",
       "      <td>1</td>\n",
       "      <td>1</td>\n",
       "      <td>HPPC_4pulse</td>\n",
       "      <td>4.12126</td>\n",
       "      <td>-2.99850</td>\n",
       "      <td>38.17255</td>\n",
       "      <td>-0.00075</td>\n",
       "      <td>-0.00308</td>\n",
       "      <td>12.0</td>\n",
       "      <td>1.0</td>\n",
       "    </tr>\n",
       "  </tbody>\n",
       "</table>\n",
       "</div>"
      ],
      "text/plain": [
       "Time Stamp           Step Status     Prog Time     Step Time  Cycle  \\\n",
       "2018-11-02 18:30:23     2    DCH  03:29:33.069  00:00:00.199      1   \n",
       "2018-11-02 18:30:23     2    DCH  03:29:32.971  00:00:00.101      1   \n",
       "2018-11-02 18:30:24     2    DCH  03:29:34.071  00:00:01.201      1   \n",
       "2018-11-02 18:30:24     2    DCH  03:29:33.972  00:00:01.102      1   \n",
       "2018-11-02 18:30:24     2    DCH  03:29:33.870  00:00:01.000      1   \n",
       "\n",
       "Time Stamp           Cycle Level    Procedure  Voltage  Current  Temperature  \\\n",
       "2018-11-02 18:30:23            1  HPPC_4pulse  4.13171 -3.00106     38.17255   \n",
       "2018-11-02 18:30:23            1  HPPC_4pulse  4.14722 -3.00361     38.17255   \n",
       "2018-11-02 18:30:24            1  HPPC_4pulse  4.12042 -2.99850     38.17255   \n",
       "2018-11-02 18:30:24            1  HPPC_4pulse  4.12092 -2.99850     38.17255   \n",
       "2018-11-02 18:30:24            1  HPPC_4pulse  4.12126 -2.99850     38.17255   \n",
       "\n",
       "Time Stamp           Capacity   WhAccu   Cnt  time_diff_sec  \n",
       "2018-11-02 18:30:23  -0.00008 -0.00034  12.0            0.0  \n",
       "2018-11-02 18:30:23   0.00000  0.00000  12.0            0.0  \n",
       "2018-11-02 18:30:24  -0.00092 -0.00378  12.0            1.0  \n",
       "2018-11-02 18:30:24  -0.00083 -0.00343  12.0            1.0  \n",
       "2018-11-02 18:30:24  -0.00075 -0.00308  12.0            1.0  "
      ]
     },
     "execution_count": 134,
     "metadata": {},
     "output_type": "execute_result"
    }
   ],
   "source": [
    "df_sorted[df_sorted['Status']=='DCH'].head()"
   ]
  },
  {
   "cell_type": "code",
   "execution_count": 141,
   "id": "3e904f71",
   "metadata": {},
   "outputs": [
    {
     "data": {
      "text/plain": [
       "2018-11-02 18:30:23       0.0\n",
       "2018-11-02 18:30:23       0.0\n",
       "2018-11-02 18:30:24       1.0\n",
       "2018-11-02 18:30:24       1.0\n",
       "2018-11-02 18:30:24       1.0\n",
       "                        ...  \n",
       "2018-11-02 20:20:32    6609.0\n",
       "2018-11-02 20:20:32    6609.0\n",
       "2018-11-02 20:20:33    6610.0\n",
       "2018-11-02 20:20:33    6610.0\n",
       "2018-11-02 20:20:33    6610.0\n",
       "Name: time_diff_sec, Length: 1000, dtype: float64"
      ]
     },
     "execution_count": 141,
     "metadata": {},
     "output_type": "execute_result"
    }
   ],
   "source": [
    "df_sorted['time_diff_sec'][:1000]"
   ]
  },
  {
   "cell_type": "code",
   "execution_count": 149,
   "id": "f3f24294",
   "metadata": {},
   "outputs": [
    {
     "data": {
      "image/png": "[encoded data removed]",
      "text/plain": [
       "<Figure size 432x288 with 1 Axes>"
      ]
     },
     "metadata": {
      "needs_background": "light"
     },
     "output_type": "display_data"
    }
   ],
   "source": [
    "plt.plot(df_sorted['time_diff_sec'][8000:12000],df_sorted['Voltage'][8000:12000])\n",
    "plt.show()"
   ]
  },
  {
   "cell_type": "code",
   "execution_count": 169,
   "id": "8f7437f3",
   "metadata": {},
   "outputs": [
    {
     "data": {
      "image/png": "[encoded data removed]",
      "text/plain": [
       "<Figure size 432x288 with 1 Axes>"
      ]
     },
     "metadata": {
      "needs_background": "light"
     },
     "output_type": "display_data"
    }
   ],
   "source": [
    "plt.plot(df_sorted['time_diff_sec'][:8000],df_sorted['Voltage'][:8000])\n",
    "plt.show()"
   ]
  },
  {
   "cell_type": "code",
   "execution_count": 148,
   "id": "29b2097e",
   "metadata": {},
   "outputs": [
    {
     "data": {
      "image/png": "[encoded data removed]",
      "text/plain": [
       "<Figure size 432x288 with 1 Axes>"
      ]
     },
     "metadata": {
      "needs_background": "light"
     },
     "output_type": "display_data"
    }
   ],
   "source": [
    "plt.plot(df_sorted['time_diff_sec'],df_sorted['Voltage'])\n",
    "plt.show()"
   ]
  },
  {
   "cell_type": "code",
   "execution_count": 143,
   "id": "68018869",
   "metadata": {},
   "outputs": [
    {
     "data": {
      "image/png": "[encoded data removed]",
      "text/plain": [
       "<Figure size 432x288 with 1 Axes>"
      ]
     },
     "metadata": {
      "needs_background": "light"
     },
     "output_type": "display_data"
    }
   ],
   "source": [
    "plt.plot(df_sorted['time_diff_sec'][:5000],df_sorted['Current'][:5000])\n",
    "plt.show()"
   ]
  },
  {
   "cell_type": "code",
   "execution_count": null,
   "id": "c3cb487e",
   "metadata": {},
   "outputs": [],
   "source": [
    "plt.plot(df_sorted['time_diff_sec'][:5000],df_sorted['Current'][:5000])\n",
    "plt.show()"
   ]
  },
  {
   "cell_type": "code",
   "execution_count": 156,
   "id": "81a3b6b7",
   "metadata": {},
   "outputs": [],
   "source": [
    "dum = df_sorted[df_sorted['Procedure'].isin(['HPPC_4pulse'])]"
   ]
  },
  {
   "cell_type": "code",
   "execution_count": 157,
   "id": "9b88db5f",
   "metadata": {},
   "outputs": [
    {
     "data": {
      "text/plain": [
       "Index(['Step', 'Status', 'Prog Time', 'Step Time', 'Cycle', 'Cycle Level',\n",
       "       'Procedure', 'Voltage', 'Current', 'Temperature', 'Capacity', 'WhAccu',\n",
       "       'Cnt', 'time_diff_sec'],\n",
       "      dtype='object', name='Time Stamp')"
      ]
     },
     "execution_count": 157,
     "metadata": {},
     "output_type": "execute_result"
    }
   ],
   "source": [
    "dum.columns"
   ]
  },
  {
   "cell_type": "code",
   "execution_count": 160,
   "id": "3d855b4c",
   "metadata": {},
   "outputs": [
    {
     "data": {
      "text/plain": [
       "[<matplotlib.lines.Line2D at 0x286c5321be0>]"
      ]
     },
     "execution_count": 160,
     "metadata": {},
     "output_type": "execute_result"
    },
    {
     "data": {
      "image/png": "[encoded data removed]",
      "text/plain": [
       "<Figure size 432x288 with 1 Axes>"
      ]
     },
     "metadata": {
      "needs_background": "light"
     },
     "output_type": "display_data"
    }
   ],
   "source": [
    "plt.plot(dum['time_diff_sec'],dum['Voltage'])"
   ]
  },
  {
   "cell_type": "code",
   "execution_count": 173,
   "id": "52d71eb2",
   "metadata": {},
   "outputs": [
    {
     "data": {
      "text/plain": [
       "[<matplotlib.lines.Line2D at 0x286c56df190>]"
      ]
     },
     "execution_count": 173,
     "metadata": {},
     "output_type": "execute_result"
    },
    {
     "data": {
      "image/png": "[encoded data removed]",
      "text/plain": [
       "<Figure size 432x288 with 1 Axes>"
      ]
     },
     "metadata": {
      "needs_background": "light"
     },
     "output_type": "display_data"
    }
   ],
   "source": [
    "plt.plot(dum['time_diff_sec'],dum['Current'])"
   ]
  },
  {
   "cell_type": "code",
   "execution_count": 161,
   "id": "6d615f4c",
   "metadata": {},
   "outputs": [],
   "source": [
    "dum2 = df_sorted[df_sorted['Procedure'].isin(['HPPC_Multi_Pulse'])]"
   ]
  },
  {
   "cell_type": "code",
   "execution_count": 163,
   "id": "6c562200",
   "metadata": {},
   "outputs": [
    {
     "data": {
      "text/plain": [
       "<matplotlib.collections.PathCollection at 0x286c53ff640>"
      ]
     },
     "execution_count": 163,
     "metadata": {},
     "output_type": "execute_result"
    },
    {
     "data": {
      "image/png": "[encoded data removed]",
      "text/plain": [
       "<Figure size 432x288 with 1 Axes>"
      ]
     },
     "metadata": {
      "needs_background": "light"
     },
     "output_type": "display_data"
    }
   ],
   "source": [
    "plt.scatter(dum2['time_diff_sec'],dum2['Voltage'])"
   ]
  },
  {
   "cell_type": "code",
   "execution_count": 166,
   "id": "87fff031",
   "metadata": {},
   "outputs": [
    {
     "data": {
      "text/plain": [
       "2018-11-02 19:15:01    4.10474\n",
       "2018-11-02 19:15:11    4.10188\n",
       "2018-11-02 19:15:21    4.09969\n",
       "2018-11-02 19:15:31    4.09800\n",
       "2018-11-02 19:15:41    4.09648\n",
       "2018-11-02 19:15:51    4.09513\n",
       "2018-11-02 19:16:01    4.09395\n",
       "2018-11-02 19:16:11    4.09277\n",
       "2018-11-02 19:16:21    4.09176\n",
       "2018-11-02 19:16:31    4.09075\n",
       "2018-11-02 19:16:41    4.08991\n",
       "2018-11-02 19:16:51    4.08890\n",
       "2018-11-02 19:17:01    4.08805\n",
       "2018-11-02 19:17:11    4.08721\n",
       "2018-11-02 19:17:21    4.08654\n",
       "2018-11-02 19:17:31    4.08569\n",
       "2018-11-02 19:17:41    4.08502\n",
       "2018-11-02 19:17:51    4.08435\n",
       "2018-11-02 19:18:01    4.08367\n",
       "2018-11-02 19:18:11    4.08283\n",
       "2018-11-02 19:18:21    4.08232\n",
       "2018-11-02 19:18:31    4.08165\n",
       "2018-11-02 19:18:41    4.08098\n",
       "2018-11-02 19:18:51    4.08030\n",
       "2018-11-02 19:19:01    4.07980\n",
       "2018-11-02 19:19:11    4.07912\n",
       "2018-11-02 19:19:21    4.07845\n",
       "2018-11-02 19:19:23    4.07845\n",
       "2018-11-02 21:04:14    4.07255\n",
       "2018-11-02 21:04:24    4.07019\n",
       "2018-11-02 21:04:34    4.06867\n",
       "2018-11-02 21:04:44    4.06749\n",
       "2018-11-02 21:04:54    4.06648\n",
       "2018-11-02 21:05:04    4.06580\n",
       "2018-11-02 21:05:14    4.06496\n",
       "2018-11-02 21:05:24    4.06446\n",
       "2018-11-02 21:05:34    4.06378\n",
       "2018-11-02 21:05:44    4.06328\n",
       "2018-11-02 21:05:54    4.06294\n",
       "2018-11-02 21:06:04    4.06243\n",
       "2018-11-02 21:06:14    4.06193\n",
       "2018-11-02 21:06:24    4.06159\n",
       "2018-11-02 21:06:34    4.06109\n",
       "2018-11-02 21:06:44    4.06075\n",
       "2018-11-02 21:06:54    4.06041\n",
       "2018-11-02 21:07:04    4.06007\n",
       "2018-11-02 21:07:14    4.05974\n",
       "2018-11-02 21:07:24    4.05940\n",
       "2018-11-02 21:07:34    4.05906\n",
       "2018-11-02 21:07:44    4.05873\n",
       "Name: Voltage, dtype: float64"
      ]
     },
     "execution_count": 166,
     "metadata": {},
     "output_type": "execute_result"
    }
   ],
   "source": [
    "dum2['Voltage'][:50]"
   ]
  },
  {
   "cell_type": "code",
   "execution_count": null,
   "id": "0140eb54",
   "metadata": {},
   "outputs": [],
   "source": []
  },
  {
   "cell_type": "code",
   "execution_count": null,
   "id": "3cbb396c",
   "metadata": {},
   "outputs": [],
   "source": []
  },
  {
   "cell_type": "code",
   "execution_count": null,
   "id": "84962dd6",
   "metadata": {},
   "outputs": [],
   "source": []
  },
  {
   "cell_type": "code",
   "execution_count": null,
   "id": "a999d4d0",
   "metadata": {},
   "outputs": [],
   "source": []
  },
  {
   "cell_type": "code",
   "execution_count": null,
   "id": "9eb0080d",
   "metadata": {},
   "outputs": [],
   "source": []
  },
  {
   "cell_type": "markdown",
   "id": "bf10e3a7",
   "metadata": {},
   "source": [
    "# Visualizing the Cycles"
   ]
  },
  {
   "cell_type": "code",
   "execution_count": 190,
   "id": "cc760447",
   "metadata": {},
   "outputs": [
    {
     "data": {
      "text/plain": [
       "array(['HPPC_4pulse', 'HPPC_Multi_Pulse', 'NN_Char_Charge',\n",
       "       'LG_HG2_NN_Char', 'LG_HG2_CyclesA', 'LG_HG2_CyclesB'], dtype=object)"
      ]
     },
     "execution_count": 190,
     "metadata": {},
     "output_type": "execute_result"
    }
   ],
   "source": [
    "df_sorted['Procedure'].unique()"
   ]
  },
  {
   "cell_type": "markdown",
   "id": "20a30a87",
   "metadata": {},
   "source": [
    "__HPPC 4pulse Cycle__"
   ]
  },
  {
   "cell_type": "code",
   "execution_count": 191,
   "id": "78692118",
   "metadata": {},
   "outputs": [],
   "source": [
    "hppc_4pulse = df_sorted[df_sorted['Procedure'].isin(['HPPC_4pulse'])]"
   ]
  },
  {
   "cell_type": "code",
   "execution_count": 233,
   "id": "faf9c9d9",
   "metadata": {},
   "outputs": [
    {
     "data": {
      "image/png": "[encoded data removed]",
      "text/plain": [
       "<Figure size 432x288 with 1 Axes>"
      ]
     },
     "metadata": {
      "needs_background": "light"
     },
     "output_type": "display_data"
    }
   ],
   "source": [
    "plt.scatter(hppc_4pulse['time_diff_sec']/3600,hppc_4pulse['Voltage'])\n",
    "plt.ylabel('Voltage',size = 14)\n",
    "plt.xlabel('Time',size = 14)\n",
    "plt.title('HPPC 4pulse Cycle',size = 20)\n",
    "plt.show()"
   ]
  },
  {
   "cell_type": "markdown",
   "id": "0af27289",
   "metadata": {},
   "source": [
    "__HPPC Multipulse Cycle__"
   ]
  },
  {
   "cell_type": "code",
   "execution_count": 211,
   "id": "4d8bf697",
   "metadata": {},
   "outputs": [],
   "source": [
    "hppc_multi_pulse = df_sorted[df_sorted['Procedure'].isin(['HPPC_Multi_Pulse'])]"
   ]
  },
  {
   "cell_type": "code",
   "execution_count": 234,
   "id": "6e68585a",
   "metadata": {},
   "outputs": [
    {
     "data": {
      "image/png": "[encoded data removed]",
      "text/plain": [
       "<Figure size 432x288 with 1 Axes>"
      ]
     },
     "metadata": {
      "needs_background": "light"
     },
     "output_type": "display_data"
    }
   ],
   "source": [
    "plt.scatter(hppc_multi_pulse['time_diff_sec']/3600,hppc_multi_pulse['Voltage'])\n",
    "plt.ylabel('Voltage',size = 14)\n",
    "plt.xlabel('Time',size = 14)\n",
    "plt.title('HPPC Multipulse Cycle',size = 20)\n",
    "plt.show()"
   ]
  },
  {
   "cell_type": "code",
   "execution_count": 269,
   "id": "41e9953c",
   "metadata": {},
   "outputs": [
    {
     "data": {
      "image/png": "[encoded data removed]",
      "text/plain": [
       "<Figure size 432x288 with 1 Axes>"
      ]
     },
     "metadata": {
      "needs_background": "light"
     },
     "output_type": "display_data"
    }
   ],
   "source": [
    "plt.scatter(hppc_multi_pulse['time_diff_sec']/3600,hppc_multi_pulse['Current'])\n",
    "plt.ylabel('Current',size = 14)\n",
    "plt.xlabel('Time',size = 14)\n",
    "plt.title('HPPC Multipulse Cycle',size = 20)\n",
    "plt.show()"
   ]
  },
  {
   "cell_type": "markdown",
   "id": "5581f38f",
   "metadata": {},
   "source": [
    "__NN_Char_Charge__"
   ]
  },
  {
   "cell_type": "code",
   "execution_count": 195,
   "id": "43b49073",
   "metadata": {},
   "outputs": [],
   "source": [
    "nn_char_charge = df_sorted[df_sorted['Procedure'].isin(['NN_Char_Charge'])]"
   ]
  },
  {
   "cell_type": "code",
   "execution_count": 235,
   "id": "e48404ce",
   "metadata": {},
   "outputs": [
    {
     "data": {
      "image/png": "[encoded data removed]",
      "text/plain": [
       "<Figure size 432x288 with 1 Axes>"
      ]
     },
     "metadata": {
      "needs_background": "light"
     },
     "output_type": "display_data"
    }
   ],
   "source": [
    "plt.scatter(nn_char_charge['time_diff_sec']/3600,nn_char_charge['Voltage'])\n",
    "plt.ylabel('Voltage',size = 14)\n",
    "plt.xlabel('Time',size = 14)\n",
    "plt.title('NN Char charge',size = 20)\n",
    "plt.show()"
   ]
  },
  {
   "cell_type": "markdown",
   "id": "ad1c3374",
   "metadata": {},
   "source": [
    "__LG_HG2_NN_Char__"
   ]
  },
  {
   "cell_type": "code",
   "execution_count": 237,
   "id": "cabe49ff",
   "metadata": {},
   "outputs": [],
   "source": [
    "lg_hg2_nn_char = df_sorted[df_sorted['Procedure'].isin(['LG_HG2_NN_Char'])]"
   ]
  },
  {
   "cell_type": "code",
   "execution_count": 238,
   "id": "7f33bdaa",
   "metadata": {},
   "outputs": [
    {
     "data": {
      "image/png": "[encoded data removed]",
      "text/plain": [
       "<Figure size 432x288 with 1 Axes>"
      ]
     },
     "metadata": {
      "needs_background": "light"
     },
     "output_type": "display_data"
    }
   ],
   "source": [
    "plt.scatter(lg_hg2_nn_char['time_diff_sec']/3600,lg_hg2_nn_char['Voltage'])\n",
    "plt.ylabel('Voltage',size = 14)\n",
    "plt.xlabel('Time',size = 14)\n",
    "plt.title('LG HG2 NN Char',size = 20)\n",
    "plt.show()"
   ]
  },
  {
   "cell_type": "markdown",
   "id": "d9ca4442",
   "metadata": {},
   "source": [
    "__LG_HG2_CyclesA__"
   ]
  },
  {
   "cell_type": "code",
   "execution_count": 199,
   "id": "0d4c00ff",
   "metadata": {},
   "outputs": [],
   "source": [
    "lg_hg2_cyclesA = df_sorted[df_sorted['Procedure'].isin(['LG_HG2_CyclesA'])]"
   ]
  },
  {
   "cell_type": "code",
   "execution_count": 239,
   "id": "65432cb9",
   "metadata": {
    "scrolled": true
   },
   "outputs": [
    {
     "data": {
      "image/png": "[encoded data removed]",
      "text/plain": [
       "<Figure size 432x288 with 1 Axes>"
      ]
     },
     "metadata": {
      "needs_background": "light"
     },
     "output_type": "display_data"
    }
   ],
   "source": [
    "plt.scatter(lg_hg2_cyclesA['time_diff_sec']/3600,lg_hg2_cyclesA['Voltage'])\n",
    "plt.ylabel('Voltage',size = 14)\n",
    "plt.xlabel('Time',size = 14)\n",
    "plt.title('LG HG2 Cycle A',size = 20)\n",
    "plt.show()"
   ]
  },
  {
   "cell_type": "markdown",
   "id": "a93414e4",
   "metadata": {},
   "source": [
    "__LG_HG2_CyclesB__"
   ]
  },
  {
   "cell_type": "code",
   "execution_count": 201,
   "id": "9736e5b5",
   "metadata": {},
   "outputs": [],
   "source": [
    "lg_hg2_cyclesB = df_sorted[df_sorted['Procedure'].isin(['LG_HG2_CyclesB'])]"
   ]
  },
  {
   "cell_type": "code",
   "execution_count": 240,
   "id": "0aea9d64",
   "metadata": {
    "scrolled": true
   },
   "outputs": [
    {
     "data": {
      "image/png": "[encoded data removed]",
      "text/plain": [
       "<Figure size 432x288 with 1 Axes>"
      ]
     },
     "metadata": {
      "needs_background": "light"
     },
     "output_type": "display_data"
    }
   ],
   "source": [
    "plt.scatter(lg_hg2_cyclesB['time_diff_sec']/3600,lg_hg2_cyclesB['Voltage'])\n",
    "plt.ylabel('Voltage',size = 14)\n",
    "plt.xlabel('Time',size = 14)\n",
    "plt.title('LG HG2 Cycle B',size = 20)\n",
    "plt.show()"
   ]
  },
  {
   "cell_type": "markdown",
   "id": "278b7fe4",
   "metadata": {},
   "source": [
    "__Overall Cycle__"
   ]
  },
  {
   "cell_type": "code",
   "execution_count": 241,
   "id": "e9883f81",
   "metadata": {},
   "outputs": [
    {
     "data": {
      "image/png": "[encoded data removed]",
      "text/plain": [
       "<Figure size 432x288 with 1 Axes>"
      ]
     },
     "metadata": {
      "needs_background": "light"
     },
     "output_type": "display_data"
    }
   ],
   "source": [
    "plt.scatter(df_sorted['time_diff_sec']/3600,df_sorted['Voltage'])\n",
    "plt.ylabel('Voltage',size = 14)\n",
    "plt.xlabel('Time',size = 14)\n",
    "plt.title('Overall Cycle',size = 20)\n",
    "plt.show()"
   ]
  },
  {
   "cell_type": "code",
   "execution_count": 221,
   "id": "d9c68376",
   "metadata": {},
   "outputs": [],
   "source": [
    "df['time_diff_sec'] = (df.index -df.index[0]).total_seconds()"
   ]
  },
  {
   "cell_type": "code",
   "execution_count": 242,
   "id": "1716bb9e",
   "metadata": {},
   "outputs": [
    {
     "data": {
      "image/png": "[encoded data removed]",
      "text/plain": [
       "<Figure size 432x288 with 1 Axes>"
      ]
     },
     "metadata": {
      "needs_background": "light"
     },
     "output_type": "display_data"
    }
   ],
   "source": [
    "plt.scatter(df[df['Voltage']>1]['time_diff_sec']/3600,df[df['Voltage']>1]['Voltage'])\n",
    "plt.ylabel('Voltage',size = 14)\n",
    "plt.xlabel('Time',size = 14)\n",
    "plt.title('Overall Cycle with PAU and STO',size = 20)\n",
    "plt.show()"
   ]
  },
  {
   "cell_type": "code",
   "execution_count": 230,
   "id": "dbb4cf7d",
   "metadata": {},
   "outputs": [
    {
     "data": {
      "text/plain": [
       "array(['DCH', 'PAU', 'CHA', 'STO', 'TABLE'], dtype=object)"
      ]
     },
     "execution_count": 230,
     "metadata": {},
     "output_type": "execute_result"
    }
   ],
   "source": [
    "df['Status'].unique()"
   ]
  },
  {
   "cell_type": "markdown",
   "id": "b8215412",
   "metadata": {},
   "source": [
    "# Visualizing the cycles in charging"
   ]
  },
  {
   "cell_type": "markdown",
   "id": "5b817825",
   "metadata": {},
   "source": [
    "__HPPC 4pulse Cycle__"
   ]
  },
  {
   "cell_type": "code",
   "execution_count": 245,
   "id": "6264839d",
   "metadata": {},
   "outputs": [
    {
     "data": {
      "text/html": [
       "<div>\n",
       "<style scoped>\n",
       "    .dataframe tbody tr th:only-of-type {\n",
       "        vertical-align: middle;\n",
       "    }\n",
       "\n",
       "    .dataframe tbody tr th {\n",
       "        vertical-align: top;\n",
       "    }\n",
       "\n",
       "    .dataframe thead th {\n",
       "        text-align: right;\n",
       "    }\n",
       "</style>\n",
       "<table border=\"1\" class=\"dataframe\">\n",
       "  <thead>\n",
       "    <tr style=\"text-align: right;\">\n",
       "      <th>Time Stamp</th>\n",
       "      <th>Step</th>\n",
       "      <th>Status</th>\n",
       "      <th>Prog Time</th>\n",
       "      <th>Step Time</th>\n",
       "      <th>Cycle</th>\n",
       "      <th>Cycle Level</th>\n",
       "      <th>Procedure</th>\n",
       "      <th>Voltage</th>\n",
       "      <th>Current</th>\n",
       "      <th>Temperature</th>\n",
       "      <th>Capacity</th>\n",
       "      <th>WhAccu</th>\n",
       "      <th>Cnt</th>\n",
       "      <th>time_diff_sec</th>\n",
       "    </tr>\n",
       "  </thead>\n",
       "  <tbody>\n",
       "    <tr>\n",
       "      <th>2018-11-02 18:31:13</th>\n",
       "      <td>4</td>\n",
       "      <td>CHA</td>\n",
       "      <td>03:30:22.977</td>\n",
       "      <td>00:00:00.100</td>\n",
       "      <td>1</td>\n",
       "      <td>1</td>\n",
       "      <td>HPPC_4pulse</td>\n",
       "      <td>4.18529</td>\n",
       "      <td>0.85307</td>\n",
       "      <td>38.27771</td>\n",
       "      <td>-0.00831</td>\n",
       "      <td>-0.03418</td>\n",
       "      <td>12.0</td>\n",
       "      <td>50.0</td>\n",
       "    </tr>\n",
       "    <tr>\n",
       "      <th>2018-11-02 18:31:14</th>\n",
       "      <td>4</td>\n",
       "      <td>CHA</td>\n",
       "      <td>03:30:23.978</td>\n",
       "      <td>00:00:01.101</td>\n",
       "      <td>1</td>\n",
       "      <td>1</td>\n",
       "      <td>HPPC_4pulse</td>\n",
       "      <td>4.19995</td>\n",
       "      <td>1.47372</td>\n",
       "      <td>38.27771</td>\n",
       "      <td>-0.00791</td>\n",
       "      <td>-0.03247</td>\n",
       "      <td>12.0</td>\n",
       "      <td>51.0</td>\n",
       "    </tr>\n",
       "    <tr>\n",
       "      <th>2018-11-02 18:31:14</th>\n",
       "      <td>4</td>\n",
       "      <td>CHA</td>\n",
       "      <td>03:30:23.879</td>\n",
       "      <td>00:00:01.002</td>\n",
       "      <td>1</td>\n",
       "      <td>1</td>\n",
       "      <td>HPPC_4pulse</td>\n",
       "      <td>4.19995</td>\n",
       "      <td>1.48649</td>\n",
       "      <td>38.27771</td>\n",
       "      <td>-0.00795</td>\n",
       "      <td>-0.03265</td>\n",
       "      <td>12.0</td>\n",
       "      <td>51.0</td>\n",
       "    </tr>\n",
       "    <tr>\n",
       "      <th>2018-11-02 18:31:14</th>\n",
       "      <td>4</td>\n",
       "      <td>CHA</td>\n",
       "      <td>03:30:23.777</td>\n",
       "      <td>00:00:00.900</td>\n",
       "      <td>1</td>\n",
       "      <td>1</td>\n",
       "      <td>HPPC_4pulse</td>\n",
       "      <td>4.19979</td>\n",
       "      <td>1.49416</td>\n",
       "      <td>38.27771</td>\n",
       "      <td>-0.00799</td>\n",
       "      <td>-0.03282</td>\n",
       "      <td>12.0</td>\n",
       "      <td>51.0</td>\n",
       "    </tr>\n",
       "    <tr>\n",
       "      <th>2018-11-02 18:31:14</th>\n",
       "      <td>4</td>\n",
       "      <td>CHA</td>\n",
       "      <td>03:30:23.679</td>\n",
       "      <td>00:00:00.802</td>\n",
       "      <td>1</td>\n",
       "      <td>1</td>\n",
       "      <td>HPPC_4pulse</td>\n",
       "      <td>4.19962</td>\n",
       "      <td>1.49671</td>\n",
       "      <td>38.27771</td>\n",
       "      <td>-0.00803</td>\n",
       "      <td>-0.03300</td>\n",
       "      <td>12.0</td>\n",
       "      <td>51.0</td>\n",
       "    </tr>\n",
       "    <tr>\n",
       "      <th>...</th>\n",
       "      <td>...</td>\n",
       "      <td>...</td>\n",
       "      <td>...</td>\n",
       "      <td>...</td>\n",
       "      <td>...</td>\n",
       "      <td>...</td>\n",
       "      <td>...</td>\n",
       "      <td>...</td>\n",
       "      <td>...</td>\n",
       "      <td>...</td>\n",
       "      <td>...</td>\n",
       "      <td>...</td>\n",
       "      <td>...</td>\n",
       "      <td>...</td>\n",
       "    </tr>\n",
       "    <tr>\n",
       "      <th>2018-11-03 14:36:56</th>\n",
       "      <td>25</td>\n",
       "      <td>CHA</td>\n",
       "      <td>23:36:02.343</td>\n",
       "      <td>00:00:09.601</td>\n",
       "      <td>2</td>\n",
       "      <td>1</td>\n",
       "      <td>HPPC_4pulse</td>\n",
       "      <td>3.38242</td>\n",
       "      <td>5.99706</td>\n",
       "      <td>38.59318</td>\n",
       "      <td>-2.55571</td>\n",
       "      <td>-9.22911</td>\n",
       "      <td>12.0</td>\n",
       "      <td>72393.0</td>\n",
       "    </tr>\n",
       "    <tr>\n",
       "      <th>2018-11-03 14:36:56</th>\n",
       "      <td>25</td>\n",
       "      <td>CHA</td>\n",
       "      <td>23:36:02.141</td>\n",
       "      <td>00:00:09.399</td>\n",
       "      <td>2</td>\n",
       "      <td>1</td>\n",
       "      <td>HPPC_4pulse</td>\n",
       "      <td>3.38090</td>\n",
       "      <td>5.99706</td>\n",
       "      <td>38.59318</td>\n",
       "      <td>-2.55604</td>\n",
       "      <td>-9.23024</td>\n",
       "      <td>12.0</td>\n",
       "      <td>72393.0</td>\n",
       "    </tr>\n",
       "    <tr>\n",
       "      <th>2018-11-03 14:36:56</th>\n",
       "      <td>25</td>\n",
       "      <td>CHA</td>\n",
       "      <td>23:36:02.042</td>\n",
       "      <td>00:00:09.300</td>\n",
       "      <td>2</td>\n",
       "      <td>1</td>\n",
       "      <td>HPPC_4pulse</td>\n",
       "      <td>3.38006</td>\n",
       "      <td>5.99961</td>\n",
       "      <td>38.59318</td>\n",
       "      <td>-2.55621</td>\n",
       "      <td>-9.23080</td>\n",
       "      <td>12.0</td>\n",
       "      <td>72393.0</td>\n",
       "    </tr>\n",
       "    <tr>\n",
       "      <th>2018-11-03 14:36:56</th>\n",
       "      <td>25</td>\n",
       "      <td>CHA</td>\n",
       "      <td>23:36:01.945</td>\n",
       "      <td>00:00:09.203</td>\n",
       "      <td>2</td>\n",
       "      <td>1</td>\n",
       "      <td>HPPC_4pulse</td>\n",
       "      <td>3.37938</td>\n",
       "      <td>5.99706</td>\n",
       "      <td>38.59318</td>\n",
       "      <td>-2.55637</td>\n",
       "      <td>-9.23135</td>\n",
       "      <td>12.0</td>\n",
       "      <td>72393.0</td>\n",
       "    </tr>\n",
       "    <tr>\n",
       "      <th>2018-11-03 14:36:56</th>\n",
       "      <td>25</td>\n",
       "      <td>CHA</td>\n",
       "      <td>23:36:02.241</td>\n",
       "      <td>00:00:09.499</td>\n",
       "      <td>2</td>\n",
       "      <td>1</td>\n",
       "      <td>HPPC_4pulse</td>\n",
       "      <td>3.38174</td>\n",
       "      <td>5.99706</td>\n",
       "      <td>38.59318</td>\n",
       "      <td>-2.55587</td>\n",
       "      <td>-9.22966</td>\n",
       "      <td>12.0</td>\n",
       "      <td>72393.0</td>\n",
       "    </tr>\n",
       "  </tbody>\n",
       "</table>\n",
       "<p>4413 rows × 14 columns</p>\n",
       "</div>"
      ],
      "text/plain": [
       "Time Stamp           Step Status     Prog Time     Step Time  Cycle  \\\n",
       "2018-11-02 18:31:13     4    CHA  03:30:22.977  00:00:00.100      1   \n",
       "2018-11-02 18:31:14     4    CHA  03:30:23.978  00:00:01.101      1   \n",
       "2018-11-02 18:31:14     4    CHA  03:30:23.879  00:00:01.002      1   \n",
       "2018-11-02 18:31:14     4    CHA  03:30:23.777  00:00:00.900      1   \n",
       "2018-11-02 18:31:14     4    CHA  03:30:23.679  00:00:00.802      1   \n",
       "...                   ...    ...           ...           ...    ...   \n",
       "2018-11-03 14:36:56    25    CHA  23:36:02.343  00:00:09.601      2   \n",
       "2018-11-03 14:36:56    25    CHA  23:36:02.141  00:00:09.399      2   \n",
       "2018-11-03 14:36:56    25    CHA  23:36:02.042  00:00:09.300      2   \n",
       "2018-11-03 14:36:56    25    CHA  23:36:01.945  00:00:09.203      2   \n",
       "2018-11-03 14:36:56    25    CHA  23:36:02.241  00:00:09.499      2   \n",
       "\n",
       "Time Stamp           Cycle Level    Procedure  Voltage  Current  Temperature  \\\n",
       "2018-11-02 18:31:13            1  HPPC_4pulse  4.18529  0.85307     38.27771   \n",
       "2018-11-02 18:31:14            1  HPPC_4pulse  4.19995  1.47372     38.27771   \n",
       "2018-11-02 18:31:14            1  HPPC_4pulse  4.19995  1.48649     38.27771   \n",
       "2018-11-02 18:31:14            1  HPPC_4pulse  4.19979  1.49416     38.27771   \n",
       "2018-11-02 18:31:14            1  HPPC_4pulse  4.19962  1.49671     38.27771   \n",
       "...                          ...          ...      ...      ...          ...   \n",
       "2018-11-03 14:36:56            1  HPPC_4pulse  3.38242  5.99706     38.59318   \n",
       "2018-11-03 14:36:56            1  HPPC_4pulse  3.38090  5.99706     38.59318   \n",
       "2018-11-03 14:36:56            1  HPPC_4pulse  3.38006  5.99961     38.59318   \n",
       "2018-11-03 14:36:56            1  HPPC_4pulse  3.37938  5.99706     38.59318   \n",
       "2018-11-03 14:36:56            1  HPPC_4pulse  3.38174  5.99706     38.59318   \n",
       "\n",
       "Time Stamp           Capacity   WhAccu   Cnt  time_diff_sec  \n",
       "2018-11-02 18:31:13  -0.00831 -0.03418  12.0           50.0  \n",
       "2018-11-02 18:31:14  -0.00791 -0.03247  12.0           51.0  \n",
       "2018-11-02 18:31:14  -0.00795 -0.03265  12.0           51.0  \n",
       "2018-11-02 18:31:14  -0.00799 -0.03282  12.0           51.0  \n",
       "2018-11-02 18:31:14  -0.00803 -0.03300  12.0           51.0  \n",
       "...                       ...      ...   ...            ...  \n",
       "2018-11-03 14:36:56  -2.55571 -9.22911  12.0        72393.0  \n",
       "2018-11-03 14:36:56  -2.55604 -9.23024  12.0        72393.0  \n",
       "2018-11-03 14:36:56  -2.55621 -9.23080  12.0        72393.0  \n",
       "2018-11-03 14:36:56  -2.55637 -9.23135  12.0        72393.0  \n",
       "2018-11-03 14:36:56  -2.55587 -9.22966  12.0        72393.0  \n",
       "\n",
       "[4413 rows x 14 columns]"
      ]
     },
     "execution_count": 245,
     "metadata": {},
     "output_type": "execute_result"
    }
   ],
   "source": [
    "hppc_4pulse[hppc_4pulse['Status']=='CHA']"
   ]
  },
  {
   "cell_type": "code",
   "execution_count": 256,
   "id": "79f8aae5",
   "metadata": {},
   "outputs": [
    {
     "data": {
      "image/png": "[encoded data removed]",
      "text/plain": [
       "<Figure size 432x288 with 1 Axes>"
      ]
     },
     "metadata": {
      "needs_background": "light"
     },
     "output_type": "display_data"
    }
   ],
   "source": [
    "plt.scatter(hppc_4pulse[hppc_4pulse['Status']=='CHA']['time_diff_sec'][:350],hppc_4pulse[hppc_4pulse['Status']=='CHA']['Voltage'][:350])\n",
    "plt.ylabel('Voltage',size = 14)\n",
    "plt.xlabel('Time',size = 14)\n",
    "plt.title('HPPC 4pulse Cycle',size = 20)\n",
    "plt.show()"
   ]
  },
  {
   "cell_type": "code",
   "execution_count": 257,
   "id": "874a3920",
   "metadata": {},
   "outputs": [
    {
     "data": {
      "image/png": "[encoded data removed]",
      "text/plain": [
       "<Figure size 432x288 with 1 Axes>"
      ]
     },
     "metadata": {
      "needs_background": "light"
     },
     "output_type": "display_data"
    }
   ],
   "source": [
    "plt.scatter(hppc_4pulse[hppc_4pulse['Status']=='DCH']['time_diff_sec'][:350],hppc_4pulse[hppc_4pulse['Status']=='DCH']['Voltage'][:350])\n",
    "plt.ylabel('Voltage',size = 14)\n",
    "plt.xlabel('Time',size = 14)\n",
    "plt.title('HPPC 4pulse Cycle',size = 20)\n",
    "plt.show()"
   ]
  },
  {
   "cell_type": "code",
   "execution_count": 260,
   "id": "a111728f",
   "metadata": {
    "scrolled": true
   },
   "outputs": [
    {
     "data": {
      "image/png": "[encoded data removed]",
      "text/plain": [
       "<Figure size 432x288 with 1 Axes>"
      ]
     },
     "metadata": {
      "needs_background": "light"
     },
     "output_type": "display_data"
    }
   ],
   "source": [
    "plt.scatter(hppc_4pulse[hppc_4pulse['Status']=='DCH']['time_diff_sec'][:350],hppc_4pulse[hppc_4pulse['Status']=='DCH']['Voltage'][:350])\n",
    "plt.scatter(hppc_4pulse[hppc_4pulse['Status']=='CHA']['time_diff_sec'][:350],hppc_4pulse[hppc_4pulse['Status']=='CHA']['Voltage'][:350])\n",
    "plt.ylabel('Voltage',size = 14)\n",
    "plt.xlabel('Time',size = 14)\n",
    "plt.title('HPPC 4pulse Cycle',size = 20)\n",
    "plt.show()"
   ]
  },
  {
   "cell_type": "code",
   "execution_count": 270,
   "id": "ea64b8ea",
   "metadata": {},
   "outputs": [
    {
     "data": {
      "image/png": "[encoded data removed]",
      "text/plain": [
       "<Figure size 432x288 with 1 Axes>"
      ]
     },
     "metadata": {
      "needs_background": "light"
     },
     "output_type": "display_data"
    }
   ],
   "source": [
    "plt.plot(hppc_4pulse[hppc_4pulse['Status']=='DCH']['time_diff_sec'][:350],hppc_4pulse[hppc_4pulse['Status']=='DCH']['Voltage'][:350])\n",
    "plt.plot(hppc_4pulse[hppc_4pulse['Status']=='CHA']['time_diff_sec'][:350],hppc_4pulse[hppc_4pulse['Status']=='CHA']['Voltage'][:350])\n",
    "plt.ylabel('Voltage',size = 14)\n",
    "plt.xlabel('Time',size = 14)\n",
    "plt.title('HPPC 4pulse Cycle',size = 20)\n",
    "plt.show()"
   ]
  },
  {
   "cell_type": "code",
   "execution_count": null,
   "id": "685dde6f",
   "metadata": {},
   "outputs": [],
   "source": [
    "hppc_multi_pulse"
   ]
  },
  {
   "cell_type": "code",
   "execution_count": 267,
   "id": "df34a5f2",
   "metadata": {},
   "outputs": [
    {
     "data": {
      "image/png": "[encoded data removed]",
      "text/plain": [
       "<Figure size 432x288 with 1 Axes>"
      ]
     },
     "metadata": {
      "needs_background": "light"
     },
     "output_type": "display_data"
    }
   ],
   "source": [
    "plt.scatter(hppc_4pulse[hppc_4pulse['Status']=='DCH']['time_diff_sec'][:350],hppc_4pulse[hppc_4pulse['Status']=='DCH']['Voltage'][:350])\n",
    "plt.scatter(hppc_4pulse[hppc_4pulse['Status']=='CHA']['time_diff_sec'][:350],hppc_4pulse[hppc_4pulse['Status']=='CHA']['Voltage'][:350])\n",
    "plt.scatter(hppc_multi_pulse['time_diff_sec'][:50],hppc_multi_pulse['Voltage'][:50])\n",
    "\n",
    "plt.ylabel('Voltage',size = 14)\n",
    "plt.xlabel('Time',size = 14)\n",
    "plt.title('HPPC Multipulse Cycle',size = 20)\n",
    "plt.show()"
   ]
  },
  {
   "cell_type": "code",
   "execution_count": 267,
   "id": "df36987a",
   "metadata": {},
   "outputs": [
    {
     "data": {
      "image/png": "[encoded data removed]",
      "text/plain": [
       "<Figure size 432x288 with 1 Axes>"
      ]
     },
     "metadata": {
      "needs_background": "light"
     },
     "output_type": "display_data"
    }
   ],
   "source": [
    "plt.scatter(hppc_4pulse[hppc_4pulse['Status']=='DCH']['time_diff_sec'][:350],hppc_4pulse[hppc_4pulse['Status']=='DCH']['Voltage'][:350])\n",
    "plt.scatter(hppc_4pulse[hppc_4pulse['Status']=='CHA']['time_diff_sec'][:350],hppc_4pulse[hppc_4pulse['Status']=='CHA']['Voltage'][:350])\n",
    "plt.scatter(hppc_multi_pulse['time_diff_sec'][:50],hppc_multi_pulse['Voltage'][:50])\n",
    "\n",
    "plt.ylabel('Voltage',size = 14)\n",
    "plt.xlabel('Time',size = 14)\n",
    "plt.title('HPPC Multipulse Cycle',size = 20)\n",
    "plt.show()"
   ]
  },
  {
   "cell_type": "code",
   "execution_count": 272,
   "id": "161fd0fb",
   "metadata": {},
   "outputs": [
    {
     "data": {
      "image/png": "[encoded data removed]",
      "text/plain": [
       "<Figure size 432x288 with 1 Axes>"
      ]
     },
     "metadata": {
      "needs_background": "light"
     },
     "output_type": "display_data"
    }
   ],
   "source": [
    "plt.scatter(hppc_4pulse[hppc_4pulse['Status']=='DCH']['time_diff_sec'],hppc_4pulse[hppc_4pulse['Status']=='DCH']['Current'])\n",
    "plt.scatter(hppc_4pulse[hppc_4pulse['Status']=='CHA']['time_diff_sec'],hppc_4pulse[hppc_4pulse['Status']=='CHA']['Current'])\n",
    "plt.scatter(hppc_multi_pulse['time_diff_sec'],hppc_multi_pulse['Current'])\n",
    "\n",
    "plt.ylabel('Current',size = 14)\n",
    "plt.xlabel('Time',size = 14)\n",
    "plt.title('HPPC Multipulse Cycle',size = 20)\n",
    "plt.show()"
   ]
  },
  {
   "cell_type": "code",
   "execution_count": 275,
   "id": "6087ab40",
   "metadata": {},
   "outputs": [
    {
     "data": {
      "image/png": "[encoded data removed]",
      "text/plain": [
       "<Figure size 432x288 with 1 Axes>"
      ]
     },
     "metadata": {
      "needs_background": "light"
     },
     "output_type": "display_data"
    }
   ],
   "source": [
    "plt.scatter(hppc_4pulse[hppc_4pulse['Status']=='DCH']['time_diff_sec'],hppc_4pulse[hppc_4pulse['Status']=='DCH']['Voltage'])\n",
    "plt.scatter(hppc_4pulse[hppc_4pulse['Status']=='CHA']['time_diff_sec'],hppc_4pulse[hppc_4pulse['Status']=='CHA']['Voltage'])\n",
    "plt.scatter(hppc_multi_pulse['time_diff_sec'],hppc_multi_pulse['Voltage'])\n",
    "\n",
    "plt.ylabel('Voltage',size = 14)\n",
    "plt.xlabel('Time',size = 14)\n",
    "plt.title('HPPC Multipulse Cycle',size = 20)\n",
    "plt.show()"
   ]
  },
  {
   "cell_type": "code",
   "execution_count": 276,
   "id": "964bc3d2",
   "metadata": {},
   "outputs": [
    {
     "data": {
      "image/png": "[encoded data removed]",
      "text/plain": [
       "<Figure size 432x288 with 1 Axes>"
      ]
     },
     "metadata": {
      "needs_background": "light"
     },
     "output_type": "display_data"
    }
   ],
   "source": [
    "plt.plot(hppc_4pulse[hppc_4pulse['Status']=='DCH']['time_diff_sec'],hppc_4pulse[hppc_4pulse['Status']=='DCH']['Voltage'])\n",
    "plt.plot(hppc_4pulse[hppc_4pulse['Status']=='CHA']['time_diff_sec'],hppc_4pulse[hppc_4pulse['Status']=='CHA']['Voltage'])\n",
    "plt.plot(hppc_multi_pulse['time_diff_sec'],hppc_multi_pulse['Voltage'])\n",
    "\n",
    "plt.ylabel('Voltage',size = 14)\n",
    "plt.xlabel('Time',size = 14)\n",
    "plt.title('HPPC Multipulse Cycle',size = 20)\n",
    "plt.show()"
   ]
  },
  {
   "cell_type": "code",
   "execution_count": 282,
   "id": "a89c715d",
   "metadata": {},
   "outputs": [
    {
     "data": {
      "image/png": "[encoded data removed]",
      "text/plain": [
       "<Figure size 432x288 with 1 Axes>"
      ]
     },
     "metadata": {
      "needs_background": "light"
     },
     "output_type": "display_data"
    }
   ],
   "source": [
    "plt.scatter(range(len(df_sorted)),df_sorted['time_diff_sec'])\n",
    "plt.ylabel('Sampling Time',size = 14)\n",
    "plt.xlabel('Sample Number',size = 14)\n",
    "plt.show()"
   ]
  },
  {
   "cell_type": "code",
   "execution_count": 285,
   "id": "fe01b1c4",
   "metadata": {},
   "outputs": [
    {
     "data": {
      "image/png": "[encoded data removed]",
      "text/plain": [
       "<Figure size 432x288 with 1 Axes>"
      ]
     },
     "metadata": {
      "needs_background": "light"
     },
     "output_type": "display_data"
    }
   ],
   "source": [
    "plt.scatter(range(len(df_sorted[:350])),df_sorted['time_diff_sec'][:350])\n",
    "plt.ylabel('Sampling Time',size = 14)\n",
    "plt.xlabel('Sample Number',size = 14)\n",
    "plt.show()"
   ]
  },
  {
   "cell_type": "code",
   "execution_count": 283,
   "id": "dcc7dd1c",
   "metadata": {},
   "outputs": [
    {
     "data": {
      "text/html": [
       "<div>\n",
       "<style scoped>\n",
       "    .dataframe tbody tr th:only-of-type {\n",
       "        vertical-align: middle;\n",
       "    }\n",
       "\n",
       "    .dataframe tbody tr th {\n",
       "        vertical-align: top;\n",
       "    }\n",
       "\n",
       "    .dataframe thead th {\n",
       "        text-align: right;\n",
       "    }\n",
       "</style>\n",
       "<table border=\"1\" class=\"dataframe\">\n",
       "  <thead>\n",
       "    <tr style=\"text-align: right;\">\n",
       "      <th>Time Stamp</th>\n",
       "      <th>Step</th>\n",
       "      <th>Status</th>\n",
       "      <th>Prog Time</th>\n",
       "      <th>Step Time</th>\n",
       "      <th>Cycle</th>\n",
       "      <th>Cycle Level</th>\n",
       "      <th>Procedure</th>\n",
       "      <th>Voltage</th>\n",
       "      <th>Current</th>\n",
       "      <th>Temperature</th>\n",
       "      <th>Capacity</th>\n",
       "      <th>WhAccu</th>\n",
       "      <th>Cnt</th>\n",
       "      <th>time_diff_sec</th>\n",
       "    </tr>\n",
       "  </thead>\n",
       "  <tbody>\n",
       "    <tr>\n",
       "      <th>2018-11-02 18:30:23</th>\n",
       "      <td>2</td>\n",
       "      <td>DCH</td>\n",
       "      <td>03:29:33.069</td>\n",
       "      <td>00:00:00.199</td>\n",
       "      <td>1</td>\n",
       "      <td>1</td>\n",
       "      <td>HPPC_4pulse</td>\n",
       "      <td>4.13171</td>\n",
       "      <td>-3.00106</td>\n",
       "      <td>38.17255</td>\n",
       "      <td>-0.00008</td>\n",
       "      <td>-0.00034</td>\n",
       "      <td>12.0</td>\n",
       "      <td>0.0</td>\n",
       "    </tr>\n",
       "    <tr>\n",
       "      <th>2018-11-02 18:30:23</th>\n",
       "      <td>2</td>\n",
       "      <td>DCH</td>\n",
       "      <td>03:29:32.971</td>\n",
       "      <td>00:00:00.101</td>\n",
       "      <td>1</td>\n",
       "      <td>1</td>\n",
       "      <td>HPPC_4pulse</td>\n",
       "      <td>4.14722</td>\n",
       "      <td>-3.00361</td>\n",
       "      <td>38.17255</td>\n",
       "      <td>0.00000</td>\n",
       "      <td>0.00000</td>\n",
       "      <td>12.0</td>\n",
       "      <td>0.0</td>\n",
       "    </tr>\n",
       "    <tr>\n",
       "      <th>2018-11-02 18:30:24</th>\n",
       "      <td>2</td>\n",
       "      <td>DCH</td>\n",
       "      <td>03:29:34.071</td>\n",
       "      <td>00:00:01.201</td>\n",
       "      <td>1</td>\n",
       "      <td>1</td>\n",
       "      <td>HPPC_4pulse</td>\n",
       "      <td>4.12042</td>\n",
       "      <td>-2.99850</td>\n",
       "      <td>38.17255</td>\n",
       "      <td>-0.00092</td>\n",
       "      <td>-0.00378</td>\n",
       "      <td>12.0</td>\n",
       "      <td>1.0</td>\n",
       "    </tr>\n",
       "    <tr>\n",
       "      <th>2018-11-02 18:30:24</th>\n",
       "      <td>2</td>\n",
       "      <td>DCH</td>\n",
       "      <td>03:29:33.972</td>\n",
       "      <td>00:00:01.102</td>\n",
       "      <td>1</td>\n",
       "      <td>1</td>\n",
       "      <td>HPPC_4pulse</td>\n",
       "      <td>4.12092</td>\n",
       "      <td>-2.99850</td>\n",
       "      <td>38.17255</td>\n",
       "      <td>-0.00083</td>\n",
       "      <td>-0.00343</td>\n",
       "      <td>12.0</td>\n",
       "      <td>1.0</td>\n",
       "    </tr>\n",
       "    <tr>\n",
       "      <th>2018-11-02 18:30:24</th>\n",
       "      <td>2</td>\n",
       "      <td>DCH</td>\n",
       "      <td>03:29:33.870</td>\n",
       "      <td>00:00:01.000</td>\n",
       "      <td>1</td>\n",
       "      <td>1</td>\n",
       "      <td>HPPC_4pulse</td>\n",
       "      <td>4.12126</td>\n",
       "      <td>-2.99850</td>\n",
       "      <td>38.17255</td>\n",
       "      <td>-0.00075</td>\n",
       "      <td>-0.00308</td>\n",
       "      <td>12.0</td>\n",
       "      <td>1.0</td>\n",
       "    </tr>\n",
       "    <tr>\n",
       "      <th>2018-11-02 18:30:24</th>\n",
       "      <td>2</td>\n",
       "      <td>DCH</td>\n",
       "      <td>03:29:33.773</td>\n",
       "      <td>00:00:00.903</td>\n",
       "      <td>1</td>\n",
       "      <td>1</td>\n",
       "      <td>HPPC_4pulse</td>\n",
       "      <td>4.12177</td>\n",
       "      <td>-2.99850</td>\n",
       "      <td>38.17255</td>\n",
       "      <td>-0.00075</td>\n",
       "      <td>-0.00308</td>\n",
       "      <td>12.0</td>\n",
       "      <td>1.0</td>\n",
       "    </tr>\n",
       "    <tr>\n",
       "      <th>2018-11-02 18:30:24</th>\n",
       "      <td>2</td>\n",
       "      <td>DCH</td>\n",
       "      <td>03:29:33.669</td>\n",
       "      <td>00:00:00.799</td>\n",
       "      <td>1</td>\n",
       "      <td>1</td>\n",
       "      <td>HPPC_4pulse</td>\n",
       "      <td>4.12227</td>\n",
       "      <td>-2.99850</td>\n",
       "      <td>38.17255</td>\n",
       "      <td>-0.00058</td>\n",
       "      <td>-0.00240</td>\n",
       "      <td>12.0</td>\n",
       "      <td>1.0</td>\n",
       "    </tr>\n",
       "    <tr>\n",
       "      <th>2018-11-02 18:30:24</th>\n",
       "      <td>2</td>\n",
       "      <td>DCH</td>\n",
       "      <td>03:29:33.472</td>\n",
       "      <td>00:00:00.602</td>\n",
       "      <td>1</td>\n",
       "      <td>1</td>\n",
       "      <td>HPPC_4pulse</td>\n",
       "      <td>4.12345</td>\n",
       "      <td>-2.99850</td>\n",
       "      <td>38.17255</td>\n",
       "      <td>-0.00042</td>\n",
       "      <td>-0.00171</td>\n",
       "      <td>12.0</td>\n",
       "      <td>1.0</td>\n",
       "    </tr>\n",
       "    <tr>\n",
       "      <th>2018-11-02 18:30:24</th>\n",
       "      <td>2</td>\n",
       "      <td>DCH</td>\n",
       "      <td>03:29:33.372</td>\n",
       "      <td>00:00:00.502</td>\n",
       "      <td>1</td>\n",
       "      <td>1</td>\n",
       "      <td>HPPC_4pulse</td>\n",
       "      <td>4.12429</td>\n",
       "      <td>-2.99850</td>\n",
       "      <td>38.17255</td>\n",
       "      <td>-0.00033</td>\n",
       "      <td>-0.00136</td>\n",
       "      <td>12.0</td>\n",
       "      <td>1.0</td>\n",
       "    </tr>\n",
       "    <tr>\n",
       "      <th>2018-11-02 18:30:24</th>\n",
       "      <td>2</td>\n",
       "      <td>DCH</td>\n",
       "      <td>03:29:33.272</td>\n",
       "      <td>00:00:00.402</td>\n",
       "      <td>1</td>\n",
       "      <td>1</td>\n",
       "      <td>HPPC_4pulse</td>\n",
       "      <td>4.12531</td>\n",
       "      <td>-2.99850</td>\n",
       "      <td>38.17255</td>\n",
       "      <td>-0.00033</td>\n",
       "      <td>-0.00136</td>\n",
       "      <td>12.0</td>\n",
       "      <td>1.0</td>\n",
       "    </tr>\n",
       "    <tr>\n",
       "      <th>2018-11-02 18:30:24</th>\n",
       "      <td>2</td>\n",
       "      <td>DCH</td>\n",
       "      <td>03:29:33.171</td>\n",
       "      <td>00:00:00.301</td>\n",
       "      <td>1</td>\n",
       "      <td>1</td>\n",
       "      <td>HPPC_4pulse</td>\n",
       "      <td>4.12733</td>\n",
       "      <td>-3.00106</td>\n",
       "      <td>38.17255</td>\n",
       "      <td>-0.00016</td>\n",
       "      <td>-0.00068</td>\n",
       "      <td>12.0</td>\n",
       "      <td>1.0</td>\n",
       "    </tr>\n",
       "    <tr>\n",
       "      <th>2018-11-02 18:30:24</th>\n",
       "      <td>2</td>\n",
       "      <td>DCH</td>\n",
       "      <td>03:29:33.571</td>\n",
       "      <td>00:00:00.701</td>\n",
       "      <td>1</td>\n",
       "      <td>1</td>\n",
       "      <td>HPPC_4pulse</td>\n",
       "      <td>4.12278</td>\n",
       "      <td>-3.00106</td>\n",
       "      <td>38.17255</td>\n",
       "      <td>-0.00050</td>\n",
       "      <td>-0.00206</td>\n",
       "      <td>12.0</td>\n",
       "      <td>1.0</td>\n",
       "    </tr>\n",
       "    <tr>\n",
       "      <th>2018-11-02 18:30:25</th>\n",
       "      <td>2</td>\n",
       "      <td>DCH</td>\n",
       "      <td>03:29:34.671</td>\n",
       "      <td>00:00:01.801</td>\n",
       "      <td>1</td>\n",
       "      <td>1</td>\n",
       "      <td>HPPC_4pulse</td>\n",
       "      <td>4.11823</td>\n",
       "      <td>-3.00106</td>\n",
       "      <td>38.17255</td>\n",
       "      <td>-0.00142</td>\n",
       "      <td>-0.00584</td>\n",
       "      <td>12.0</td>\n",
       "      <td>2.0</td>\n",
       "    </tr>\n",
       "    <tr>\n",
       "      <th>2018-11-02 18:30:25</th>\n",
       "      <td>2</td>\n",
       "      <td>DCH</td>\n",
       "      <td>03:29:35.070</td>\n",
       "      <td>00:00:02.200</td>\n",
       "      <td>1</td>\n",
       "      <td>1</td>\n",
       "      <td>HPPC_4pulse</td>\n",
       "      <td>4.11688</td>\n",
       "      <td>-3.00106</td>\n",
       "      <td>38.17255</td>\n",
       "      <td>-0.00175</td>\n",
       "      <td>-0.00720</td>\n",
       "      <td>12.0</td>\n",
       "      <td>2.0</td>\n",
       "    </tr>\n",
       "    <tr>\n",
       "      <th>2018-11-02 18:30:25</th>\n",
       "      <td>2</td>\n",
       "      <td>DCH</td>\n",
       "      <td>03:29:34.871</td>\n",
       "      <td>00:00:02.001</td>\n",
       "      <td>1</td>\n",
       "      <td>1</td>\n",
       "      <td>HPPC_4pulse</td>\n",
       "      <td>4.11755</td>\n",
       "      <td>-2.99850</td>\n",
       "      <td>38.17255</td>\n",
       "      <td>-0.00158</td>\n",
       "      <td>-0.00652</td>\n",
       "      <td>12.0</td>\n",
       "      <td>2.0</td>\n",
       "    </tr>\n",
       "    <tr>\n",
       "      <th>2018-11-02 18:30:25</th>\n",
       "      <td>2</td>\n",
       "      <td>DCH</td>\n",
       "      <td>03:29:34.772</td>\n",
       "      <td>00:00:01.902</td>\n",
       "      <td>1</td>\n",
       "      <td>1</td>\n",
       "      <td>HPPC_4pulse</td>\n",
       "      <td>4.11789</td>\n",
       "      <td>-3.00106</td>\n",
       "      <td>38.17255</td>\n",
       "      <td>-0.00150</td>\n",
       "      <td>-0.00618</td>\n",
       "      <td>12.0</td>\n",
       "      <td>2.0</td>\n",
       "    </tr>\n",
       "    <tr>\n",
       "      <th>2018-11-02 18:30:25</th>\n",
       "      <td>2</td>\n",
       "      <td>DCH</td>\n",
       "      <td>03:29:34.572</td>\n",
       "      <td>00:00:01.702</td>\n",
       "      <td>1</td>\n",
       "      <td>1</td>\n",
       "      <td>HPPC_4pulse</td>\n",
       "      <td>4.11856</td>\n",
       "      <td>-2.99850</td>\n",
       "      <td>38.17255</td>\n",
       "      <td>-0.00133</td>\n",
       "      <td>-0.00549</td>\n",
       "      <td>12.0</td>\n",
       "      <td>2.0</td>\n",
       "    </tr>\n",
       "    <tr>\n",
       "      <th>2018-11-02 18:30:25</th>\n",
       "      <td>2</td>\n",
       "      <td>DCH</td>\n",
       "      <td>03:29:34.973</td>\n",
       "      <td>00:00:02.103</td>\n",
       "      <td>1</td>\n",
       "      <td>1</td>\n",
       "      <td>HPPC_4pulse</td>\n",
       "      <td>4.11722</td>\n",
       "      <td>-2.99850</td>\n",
       "      <td>38.17255</td>\n",
       "      <td>-0.00175</td>\n",
       "      <td>-0.00720</td>\n",
       "      <td>12.0</td>\n",
       "      <td>2.0</td>\n",
       "    </tr>\n",
       "    <tr>\n",
       "      <th>2018-11-02 18:30:25</th>\n",
       "      <td>2</td>\n",
       "      <td>DCH</td>\n",
       "      <td>03:29:34.373</td>\n",
       "      <td>00:00:01.503</td>\n",
       "      <td>1</td>\n",
       "      <td>1</td>\n",
       "      <td>HPPC_4pulse</td>\n",
       "      <td>4.11924</td>\n",
       "      <td>-3.00106</td>\n",
       "      <td>38.17255</td>\n",
       "      <td>-0.00125</td>\n",
       "      <td>-0.00514</td>\n",
       "      <td>12.0</td>\n",
       "      <td>2.0</td>\n",
       "    </tr>\n",
       "    <tr>\n",
       "      <th>2018-11-02 18:30:25</th>\n",
       "      <td>2</td>\n",
       "      <td>DCH</td>\n",
       "      <td>03:29:34.270</td>\n",
       "      <td>00:00:01.400</td>\n",
       "      <td>1</td>\n",
       "      <td>1</td>\n",
       "      <td>HPPC_4pulse</td>\n",
       "      <td>4.11957</td>\n",
       "      <td>-3.00106</td>\n",
       "      <td>38.17255</td>\n",
       "      <td>-0.00108</td>\n",
       "      <td>-0.00446</td>\n",
       "      <td>12.0</td>\n",
       "      <td>2.0</td>\n",
       "    </tr>\n",
       "    <tr>\n",
       "      <th>2018-11-02 18:30:25</th>\n",
       "      <td>2</td>\n",
       "      <td>DCH</td>\n",
       "      <td>03:29:34.172</td>\n",
       "      <td>00:00:01.302</td>\n",
       "      <td>1</td>\n",
       "      <td>1</td>\n",
       "      <td>HPPC_4pulse</td>\n",
       "      <td>4.12008</td>\n",
       "      <td>-2.99850</td>\n",
       "      <td>38.17255</td>\n",
       "      <td>-0.00100</td>\n",
       "      <td>-0.00412</td>\n",
       "      <td>12.0</td>\n",
       "      <td>2.0</td>\n",
       "    </tr>\n",
       "    <tr>\n",
       "      <th>2018-11-02 18:30:25</th>\n",
       "      <td>2</td>\n",
       "      <td>DCH</td>\n",
       "      <td>03:29:34.470</td>\n",
       "      <td>00:00:01.600</td>\n",
       "      <td>1</td>\n",
       "      <td>1</td>\n",
       "      <td>HPPC_4pulse</td>\n",
       "      <td>4.11890</td>\n",
       "      <td>-2.99850</td>\n",
       "      <td>38.17255</td>\n",
       "      <td>-0.00125</td>\n",
       "      <td>-0.00514</td>\n",
       "      <td>12.0</td>\n",
       "      <td>2.0</td>\n",
       "    </tr>\n",
       "    <tr>\n",
       "      <th>2018-11-02 18:30:26</th>\n",
       "      <td>2</td>\n",
       "      <td>DCH</td>\n",
       "      <td>03:29:36.071</td>\n",
       "      <td>00:00:03.201</td>\n",
       "      <td>1</td>\n",
       "      <td>1</td>\n",
       "      <td>HPPC_4pulse</td>\n",
       "      <td>4.11401</td>\n",
       "      <td>-3.00106</td>\n",
       "      <td>38.17255</td>\n",
       "      <td>-0.00258</td>\n",
       "      <td>-0.01063</td>\n",
       "      <td>12.0</td>\n",
       "      <td>3.0</td>\n",
       "    </tr>\n",
       "    <tr>\n",
       "      <th>2018-11-02 18:30:26</th>\n",
       "      <td>2</td>\n",
       "      <td>DCH</td>\n",
       "      <td>03:29:35.773</td>\n",
       "      <td>00:00:02.903</td>\n",
       "      <td>1</td>\n",
       "      <td>1</td>\n",
       "      <td>HPPC_4pulse</td>\n",
       "      <td>4.11486</td>\n",
       "      <td>-2.99850</td>\n",
       "      <td>38.17255</td>\n",
       "      <td>-0.00241</td>\n",
       "      <td>-0.00994</td>\n",
       "      <td>12.0</td>\n",
       "      <td>3.0</td>\n",
       "    </tr>\n",
       "    <tr>\n",
       "      <th>2018-11-02 18:30:26</th>\n",
       "      <td>2</td>\n",
       "      <td>DCH</td>\n",
       "      <td>03:29:35.973</td>\n",
       "      <td>00:00:03.103</td>\n",
       "      <td>1</td>\n",
       "      <td>1</td>\n",
       "      <td>HPPC_4pulse</td>\n",
       "      <td>4.11435</td>\n",
       "      <td>-2.99850</td>\n",
       "      <td>38.17255</td>\n",
       "      <td>-0.00258</td>\n",
       "      <td>-0.01063</td>\n",
       "      <td>12.0</td>\n",
       "      <td>3.0</td>\n",
       "    </tr>\n",
       "  </tbody>\n",
       "</table>\n",
       "</div>"
      ],
      "text/plain": [
       "Time Stamp           Step Status     Prog Time     Step Time  Cycle  \\\n",
       "2018-11-02 18:30:23     2    DCH  03:29:33.069  00:00:00.199      1   \n",
       "2018-11-02 18:30:23     2    DCH  03:29:32.971  00:00:00.101      1   \n",
       "2018-11-02 18:30:24     2    DCH  03:29:34.071  00:00:01.201      1   \n",
       "2018-11-02 18:30:24     2    DCH  03:29:33.972  00:00:01.102      1   \n",
       "2018-11-02 18:30:24     2    DCH  03:29:33.870  00:00:01.000      1   \n",
       "2018-11-02 18:30:24     2    DCH  03:29:33.773  00:00:00.903      1   \n",
       "2018-11-02 18:30:24     2    DCH  03:29:33.669  00:00:00.799      1   \n",
       "2018-11-02 18:30:24     2    DCH  03:29:33.472  00:00:00.602      1   \n",
       "2018-11-02 18:30:24     2    DCH  03:29:33.372  00:00:00.502      1   \n",
       "2018-11-02 18:30:24     2    DCH  03:29:33.272  00:00:00.402      1   \n",
       "2018-11-02 18:30:24     2    DCH  03:29:33.171  00:00:00.301      1   \n",
       "2018-11-02 18:30:24     2    DCH  03:29:33.571  00:00:00.701      1   \n",
       "2018-11-02 18:30:25     2    DCH  03:29:34.671  00:00:01.801      1   \n",
       "2018-11-02 18:30:25     2    DCH  03:29:35.070  00:00:02.200      1   \n",
       "2018-11-02 18:30:25     2    DCH  03:29:34.871  00:00:02.001      1   \n",
       "2018-11-02 18:30:25     2    DCH  03:29:34.772  00:00:01.902      1   \n",
       "2018-11-02 18:30:25     2    DCH  03:29:34.572  00:00:01.702      1   \n",
       "2018-11-02 18:30:25     2    DCH  03:29:34.973  00:00:02.103      1   \n",
       "2018-11-02 18:30:25     2    DCH  03:29:34.373  00:00:01.503      1   \n",
       "2018-11-02 18:30:25     2    DCH  03:29:34.270  00:00:01.400      1   \n",
       "2018-11-02 18:30:25     2    DCH  03:29:34.172  00:00:01.302      1   \n",
       "2018-11-02 18:30:25     2    DCH  03:29:34.470  00:00:01.600      1   \n",
       "2018-11-02 18:30:26     2    DCH  03:29:36.071  00:00:03.201      1   \n",
       "2018-11-02 18:30:26     2    DCH  03:29:35.773  00:00:02.903      1   \n",
       "2018-11-02 18:30:26     2    DCH  03:29:35.973  00:00:03.103      1   \n",
       "\n",
       "Time Stamp           Cycle Level    Procedure  Voltage  Current  Temperature  \\\n",
       "2018-11-02 18:30:23            1  HPPC_4pulse  4.13171 -3.00106     38.17255   \n",
       "2018-11-02 18:30:23            1  HPPC_4pulse  4.14722 -3.00361     38.17255   \n",
       "2018-11-02 18:30:24            1  HPPC_4pulse  4.12042 -2.99850     38.17255   \n",
       "2018-11-02 18:30:24            1  HPPC_4pulse  4.12092 -2.99850     38.17255   \n",
       "2018-11-02 18:30:24            1  HPPC_4pulse  4.12126 -2.99850     38.17255   \n",
       "2018-11-02 18:30:24            1  HPPC_4pulse  4.12177 -2.99850     38.17255   \n",
       "2018-11-02 18:30:24            1  HPPC_4pulse  4.12227 -2.99850     38.17255   \n",
       "2018-11-02 18:30:24            1  HPPC_4pulse  4.12345 -2.99850     38.17255   \n",
       "2018-11-02 18:30:24            1  HPPC_4pulse  4.12429 -2.99850     38.17255   \n",
       "2018-11-02 18:30:24            1  HPPC_4pulse  4.12531 -2.99850     38.17255   \n",
       "2018-11-02 18:30:24            1  HPPC_4pulse  4.12733 -3.00106     38.17255   \n",
       "2018-11-02 18:30:24            1  HPPC_4pulse  4.12278 -3.00106     38.17255   \n",
       "2018-11-02 18:30:25            1  HPPC_4pulse  4.11823 -3.00106     38.17255   \n",
       "2018-11-02 18:30:25            1  HPPC_4pulse  4.11688 -3.00106     38.17255   \n",
       "2018-11-02 18:30:25            1  HPPC_4pulse  4.11755 -2.99850     38.17255   \n",
       "2018-11-02 18:30:25            1  HPPC_4pulse  4.11789 -3.00106     38.17255   \n",
       "2018-11-02 18:30:25            1  HPPC_4pulse  4.11856 -2.99850     38.17255   \n",
       "2018-11-02 18:30:25            1  HPPC_4pulse  4.11722 -2.99850     38.17255   \n",
       "2018-11-02 18:30:25            1  HPPC_4pulse  4.11924 -3.00106     38.17255   \n",
       "2018-11-02 18:30:25            1  HPPC_4pulse  4.11957 -3.00106     38.17255   \n",
       "2018-11-02 18:30:25            1  HPPC_4pulse  4.12008 -2.99850     38.17255   \n",
       "2018-11-02 18:30:25            1  HPPC_4pulse  4.11890 -2.99850     38.17255   \n",
       "2018-11-02 18:30:26            1  HPPC_4pulse  4.11401 -3.00106     38.17255   \n",
       "2018-11-02 18:30:26            1  HPPC_4pulse  4.11486 -2.99850     38.17255   \n",
       "2018-11-02 18:30:26            1  HPPC_4pulse  4.11435 -2.99850     38.17255   \n",
       "\n",
       "Time Stamp           Capacity   WhAccu   Cnt  time_diff_sec  \n",
       "2018-11-02 18:30:23  -0.00008 -0.00034  12.0            0.0  \n",
       "2018-11-02 18:30:23   0.00000  0.00000  12.0            0.0  \n",
       "2018-11-02 18:30:24  -0.00092 -0.00378  12.0            1.0  \n",
       "2018-11-02 18:30:24  -0.00083 -0.00343  12.0            1.0  \n",
       "2018-11-02 18:30:24  -0.00075 -0.00308  12.0            1.0  \n",
       "2018-11-02 18:30:24  -0.00075 -0.00308  12.0            1.0  \n",
       "2018-11-02 18:30:24  -0.00058 -0.00240  12.0            1.0  \n",
       "2018-11-02 18:30:24  -0.00042 -0.00171  12.0            1.0  \n",
       "2018-11-02 18:30:24  -0.00033 -0.00136  12.0            1.0  \n",
       "2018-11-02 18:30:24  -0.00033 -0.00136  12.0            1.0  \n",
       "2018-11-02 18:30:24  -0.00016 -0.00068  12.0            1.0  \n",
       "2018-11-02 18:30:24  -0.00050 -0.00206  12.0            1.0  \n",
       "2018-11-02 18:30:25  -0.00142 -0.00584  12.0            2.0  \n",
       "2018-11-02 18:30:25  -0.00175 -0.00720  12.0            2.0  \n",
       "2018-11-02 18:30:25  -0.00158 -0.00652  12.0            2.0  \n",
       "2018-11-02 18:30:25  -0.00150 -0.00618  12.0            2.0  \n",
       "2018-11-02 18:30:25  -0.00133 -0.00549  12.0            2.0  \n",
       "2018-11-02 18:30:25  -0.00175 -0.00720  12.0            2.0  \n",
       "2018-11-02 18:30:25  -0.00125 -0.00514  12.0            2.0  \n",
       "2018-11-02 18:30:25  -0.00108 -0.00446  12.0            2.0  \n",
       "2018-11-02 18:30:25  -0.00100 -0.00412  12.0            2.0  \n",
       "2018-11-02 18:30:25  -0.00125 -0.00514  12.0            2.0  \n",
       "2018-11-02 18:30:26  -0.00258 -0.01063  12.0            3.0  \n",
       "2018-11-02 18:30:26  -0.00241 -0.00994  12.0            3.0  \n",
       "2018-11-02 18:30:26  -0.00258 -0.01063  12.0            3.0  "
      ]
     },
     "execution_count": 283,
     "metadata": {},
     "output_type": "execute_result"
    }
   ],
   "source": [
    "df_sorted.head(25)"
   ]
  },
  {
   "cell_type": "code",
   "execution_count": 290,
   "id": "637e6fa4",
   "metadata": {},
   "outputs": [],
   "source": [
    "dum = df_sorted[~df_sorted.index.duplicated(keep = 'first')]"
   ]
  },
  {
   "cell_type": "code",
   "execution_count": 293,
   "id": "216b565a",
   "metadata": {},
   "outputs": [
    {
     "data": {
      "image/png": "[encoded data removed]",
      "text/plain": [
       "<Figure size 432x288 with 1 Axes>"
      ]
     },
     "metadata": {
      "needs_background": "light"
     },
     "output_type": "display_data"
    }
   ],
   "source": [
    "plt.scatter(range(len(dum[:350])),dum['time_diff_sec'][:350]/60)\n",
    "plt.ylabel('Sampling Time',size = 14)\n",
    "plt.xlabel('Sample Number',size = 14)\n",
    "plt.show()"
   ]
  },
  {
   "cell_type": "code",
   "execution_count": 294,
   "id": "c5541b5f",
   "metadata": {
    "scrolled": true
   },
   "outputs": [
    {
     "data": {
      "image/png": "[encoded data removed]",
      "text/plain": [
       "<Figure size 432x288 with 1 Axes>"
      ]
     },
     "metadata": {
      "needs_background": "light"
     },
     "output_type": "display_data"
    }
   ],
   "source": [
    "plt.scatter(range(len(dum)),dum['time_diff_sec']/60)\n",
    "plt.ylabel('Sampling Time',size = 14)\n",
    "plt.xlabel('Sample Number',size = 14)\n",
    "plt.show()"
   ]
  },
  {
   "cell_type": "code",
   "execution_count": 296,
   "id": "bae8cbe4",
   "metadata": {},
   "outputs": [
    {
     "data": {
      "text/html": [
       "<div>\n",
       "<style scoped>\n",
       "    .dataframe tbody tr th:only-of-type {\n",
       "        vertical-align: middle;\n",
       "    }\n",
       "\n",
       "    .dataframe tbody tr th {\n",
       "        vertical-align: top;\n",
       "    }\n",
       "\n",
       "    .dataframe thead th {\n",
       "        text-align: right;\n",
       "    }\n",
       "</style>\n",
       "<table border=\"1\" class=\"dataframe\">\n",
       "  <thead>\n",
       "    <tr style=\"text-align: right;\">\n",
       "      <th>Time Stamp</th>\n",
       "      <th>Step</th>\n",
       "      <th>Status</th>\n",
       "      <th>Prog Time</th>\n",
       "      <th>Step Time</th>\n",
       "      <th>Cycle</th>\n",
       "      <th>Cycle Level</th>\n",
       "      <th>Procedure</th>\n",
       "      <th>Voltage</th>\n",
       "      <th>Current</th>\n",
       "      <th>Temperature</th>\n",
       "      <th>Capacity</th>\n",
       "      <th>WhAccu</th>\n",
       "      <th>Cnt</th>\n",
       "      <th>time_diff_sec</th>\n",
       "    </tr>\n",
       "  </thead>\n",
       "  <tbody>\n",
       "    <tr>\n",
       "      <th>2018-11-02 18:30:23</th>\n",
       "      <td>2</td>\n",
       "      <td>DCH</td>\n",
       "      <td>03:29:33.069</td>\n",
       "      <td>00:00:00.199</td>\n",
       "      <td>1</td>\n",
       "      <td>1</td>\n",
       "      <td>HPPC_4pulse</td>\n",
       "      <td>4.13171</td>\n",
       "      <td>-3.00106</td>\n",
       "      <td>38.17255</td>\n",
       "      <td>-0.00008</td>\n",
       "      <td>-0.00034</td>\n",
       "      <td>12.0</td>\n",
       "      <td>0.0</td>\n",
       "    </tr>\n",
       "    <tr>\n",
       "      <th>2018-11-02 18:30:24</th>\n",
       "      <td>2</td>\n",
       "      <td>DCH</td>\n",
       "      <td>03:29:34.071</td>\n",
       "      <td>00:00:01.201</td>\n",
       "      <td>1</td>\n",
       "      <td>1</td>\n",
       "      <td>HPPC_4pulse</td>\n",
       "      <td>4.12042</td>\n",
       "      <td>-2.99850</td>\n",
       "      <td>38.17255</td>\n",
       "      <td>-0.00092</td>\n",
       "      <td>-0.00378</td>\n",
       "      <td>12.0</td>\n",
       "      <td>1.0</td>\n",
       "    </tr>\n",
       "    <tr>\n",
       "      <th>2018-11-02 18:30:25</th>\n",
       "      <td>2</td>\n",
       "      <td>DCH</td>\n",
       "      <td>03:29:34.671</td>\n",
       "      <td>00:00:01.801</td>\n",
       "      <td>1</td>\n",
       "      <td>1</td>\n",
       "      <td>HPPC_4pulse</td>\n",
       "      <td>4.11823</td>\n",
       "      <td>-3.00106</td>\n",
       "      <td>38.17255</td>\n",
       "      <td>-0.00142</td>\n",
       "      <td>-0.00584</td>\n",
       "      <td>12.0</td>\n",
       "      <td>2.0</td>\n",
       "    </tr>\n",
       "    <tr>\n",
       "      <th>2018-11-02 18:30:26</th>\n",
       "      <td>2</td>\n",
       "      <td>DCH</td>\n",
       "      <td>03:29:36.071</td>\n",
       "      <td>00:00:03.201</td>\n",
       "      <td>1</td>\n",
       "      <td>1</td>\n",
       "      <td>HPPC_4pulse</td>\n",
       "      <td>4.11401</td>\n",
       "      <td>-3.00106</td>\n",
       "      <td>38.17255</td>\n",
       "      <td>-0.00258</td>\n",
       "      <td>-0.01063</td>\n",
       "      <td>12.0</td>\n",
       "      <td>3.0</td>\n",
       "    </tr>\n",
       "    <tr>\n",
       "      <th>2018-11-02 18:30:27</th>\n",
       "      <td>2</td>\n",
       "      <td>DCH</td>\n",
       "      <td>03:29:36.170</td>\n",
       "      <td>00:00:03.300</td>\n",
       "      <td>1</td>\n",
       "      <td>1</td>\n",
       "      <td>HPPC_4pulse</td>\n",
       "      <td>4.11384</td>\n",
       "      <td>-3.00106</td>\n",
       "      <td>38.17255</td>\n",
       "      <td>-0.00266</td>\n",
       "      <td>-0.01098</td>\n",
       "      <td>12.0</td>\n",
       "      <td>4.0</td>\n",
       "    </tr>\n",
       "    <tr>\n",
       "      <th>...</th>\n",
       "      <td>...</td>\n",
       "      <td>...</td>\n",
       "      <td>...</td>\n",
       "      <td>...</td>\n",
       "      <td>...</td>\n",
       "      <td>...</td>\n",
       "      <td>...</td>\n",
       "      <td>...</td>\n",
       "      <td>...</td>\n",
       "      <td>...</td>\n",
       "      <td>...</td>\n",
       "      <td>...</td>\n",
       "      <td>...</td>\n",
       "      <td>...</td>\n",
       "    </tr>\n",
       "    <tr>\n",
       "      <th>2018-11-07 11:39:50</th>\n",
       "      <td>15</td>\n",
       "      <td>DCH</td>\n",
       "      <td>00:50:25.022</td>\n",
       "      <td>00:49:20.001</td>\n",
       "      <td>0</td>\n",
       "      <td>0</td>\n",
       "      <td>LG_HG2_CyclesB</td>\n",
       "      <td>2.87224</td>\n",
       "      <td>-3.00106</td>\n",
       "      <td>2.20833</td>\n",
       "      <td>-2.46710</td>\n",
       "      <td>-8.69168</td>\n",
       "      <td>1.0</td>\n",
       "      <td>407367.0</td>\n",
       "    </tr>\n",
       "    <tr>\n",
       "      <th>2018-11-07 11:40:00</th>\n",
       "      <td>15</td>\n",
       "      <td>DCH</td>\n",
       "      <td>00:50:35.022</td>\n",
       "      <td>00:49:30.001</td>\n",
       "      <td>0</td>\n",
       "      <td>0</td>\n",
       "      <td>LG_HG2_CyclesB</td>\n",
       "      <td>2.85606</td>\n",
       "      <td>-3.00106</td>\n",
       "      <td>2.10317</td>\n",
       "      <td>-2.47544</td>\n",
       "      <td>-8.71556</td>\n",
       "      <td>1.0</td>\n",
       "      <td>407377.0</td>\n",
       "    </tr>\n",
       "    <tr>\n",
       "      <th>2018-11-07 11:40:10</th>\n",
       "      <td>15</td>\n",
       "      <td>DCH</td>\n",
       "      <td>00:50:45.023</td>\n",
       "      <td>00:49:40.002</td>\n",
       "      <td>0</td>\n",
       "      <td>0</td>\n",
       "      <td>LG_HG2_CyclesB</td>\n",
       "      <td>2.83887</td>\n",
       "      <td>-3.00106</td>\n",
       "      <td>2.20833</td>\n",
       "      <td>-2.48377</td>\n",
       "      <td>-8.73929</td>\n",
       "      <td>1.0</td>\n",
       "      <td>407387.0</td>\n",
       "    </tr>\n",
       "    <tr>\n",
       "      <th>2018-11-07 11:40:20</th>\n",
       "      <td>15</td>\n",
       "      <td>DCH</td>\n",
       "      <td>00:50:55.022</td>\n",
       "      <td>00:49:50.001</td>\n",
       "      <td>0</td>\n",
       "      <td>0</td>\n",
       "      <td>LG_HG2_CyclesB</td>\n",
       "      <td>2.82016</td>\n",
       "      <td>-3.00106</td>\n",
       "      <td>2.20833</td>\n",
       "      <td>-2.49211</td>\n",
       "      <td>-8.76287</td>\n",
       "      <td>1.0</td>\n",
       "      <td>407397.0</td>\n",
       "    </tr>\n",
       "    <tr>\n",
       "      <th>2018-11-07 11:40:30</th>\n",
       "      <td>15</td>\n",
       "      <td>DCH</td>\n",
       "      <td>00:51:04.955</td>\n",
       "      <td>00:49:59.934</td>\n",
       "      <td>0</td>\n",
       "      <td>0</td>\n",
       "      <td>LG_HG2_CyclesB</td>\n",
       "      <td>2.79993</td>\n",
       "      <td>-3.00106</td>\n",
       "      <td>2.20833</td>\n",
       "      <td>-2.50036</td>\n",
       "      <td>-8.78606</td>\n",
       "      <td>1.0</td>\n",
       "      <td>407407.0</td>\n",
       "    </tr>\n",
       "  </tbody>\n",
       "</table>\n",
       "<p>2765 rows × 14 columns</p>\n",
       "</div>"
      ],
      "text/plain": [
       "Time Stamp           Step Status     Prog Time     Step Time  Cycle  \\\n",
       "2018-11-02 18:30:23     2    DCH  03:29:33.069  00:00:00.199      1   \n",
       "2018-11-02 18:30:24     2    DCH  03:29:34.071  00:00:01.201      1   \n",
       "2018-11-02 18:30:25     2    DCH  03:29:34.671  00:00:01.801      1   \n",
       "2018-11-02 18:30:26     2    DCH  03:29:36.071  00:00:03.201      1   \n",
       "2018-11-02 18:30:27     2    DCH  03:29:36.170  00:00:03.300      1   \n",
       "...                   ...    ...           ...           ...    ...   \n",
       "2018-11-07 11:39:50    15    DCH  00:50:25.022  00:49:20.001      0   \n",
       "2018-11-07 11:40:00    15    DCH  00:50:35.022  00:49:30.001      0   \n",
       "2018-11-07 11:40:10    15    DCH  00:50:45.023  00:49:40.002      0   \n",
       "2018-11-07 11:40:20    15    DCH  00:50:55.022  00:49:50.001      0   \n",
       "2018-11-07 11:40:30    15    DCH  00:51:04.955  00:49:59.934      0   \n",
       "\n",
       "Time Stamp           Cycle Level       Procedure  Voltage  Current  \\\n",
       "2018-11-02 18:30:23            1     HPPC_4pulse  4.13171 -3.00106   \n",
       "2018-11-02 18:30:24            1     HPPC_4pulse  4.12042 -2.99850   \n",
       "2018-11-02 18:30:25            1     HPPC_4pulse  4.11823 -3.00106   \n",
       "2018-11-02 18:30:26            1     HPPC_4pulse  4.11401 -3.00106   \n",
       "2018-11-02 18:30:27            1     HPPC_4pulse  4.11384 -3.00106   \n",
       "...                          ...             ...      ...      ...   \n",
       "2018-11-07 11:39:50            0  LG_HG2_CyclesB  2.87224 -3.00106   \n",
       "2018-11-07 11:40:00            0  LG_HG2_CyclesB  2.85606 -3.00106   \n",
       "2018-11-07 11:40:10            0  LG_HG2_CyclesB  2.83887 -3.00106   \n",
       "2018-11-07 11:40:20            0  LG_HG2_CyclesB  2.82016 -3.00106   \n",
       "2018-11-07 11:40:30            0  LG_HG2_CyclesB  2.79993 -3.00106   \n",
       "\n",
       "Time Stamp           Temperature  Capacity   WhAccu   Cnt  time_diff_sec  \n",
       "2018-11-02 18:30:23     38.17255  -0.00008 -0.00034  12.0            0.0  \n",
       "2018-11-02 18:30:24     38.17255  -0.00092 -0.00378  12.0            1.0  \n",
       "2018-11-02 18:30:25     38.17255  -0.00142 -0.00584  12.0            2.0  \n",
       "2018-11-02 18:30:26     38.17255  -0.00258 -0.01063  12.0            3.0  \n",
       "2018-11-02 18:30:27     38.17255  -0.00266 -0.01098  12.0            4.0  \n",
       "...                          ...       ...      ...   ...            ...  \n",
       "2018-11-07 11:39:50      2.20833  -2.46710 -8.69168   1.0       407367.0  \n",
       "2018-11-07 11:40:00      2.10317  -2.47544 -8.71556   1.0       407377.0  \n",
       "2018-11-07 11:40:10      2.20833  -2.48377 -8.73929   1.0       407387.0  \n",
       "2018-11-07 11:40:20      2.20833  -2.49211 -8.76287   1.0       407397.0  \n",
       "2018-11-07 11:40:30      2.20833  -2.50036 -8.78606   1.0       407407.0  \n",
       "\n",
       "[2765 rows x 14 columns]"
      ]
     },
     "execution_count": 296,
     "metadata": {},
     "output_type": "execute_result"
    }
   ],
   "source": [
    "dum[dum['Status'] == 'DCH']"
   ]
  },
  {
   "cell_type": "code",
   "execution_count": 298,
   "id": "3eb6865d",
   "metadata": {},
   "outputs": [
    {
     "data": {
      "image/png": "[encoded data removed]",
      "text/plain": [
       "<Figure size 432x288 with 1 Axes>"
      ]
     },
     "metadata": {
      "needs_background": "light"
     },
     "output_type": "display_data"
    }
   ],
   "source": [
    "plt.scatter(range(len(dum[dum['Status'] == 'DCH'][:350])),dum[dum['Status'] == 'DCH']['time_diff_sec'][:350]/60)\n",
    "plt.scatter(range(len(dum[dum['Status'] == 'CHA'][:350])),dum[dum['Status'] == 'CHA']['time_diff_sec'][:350]/60)\n",
    "plt.ylabel('Sampling Time',size = 14)\n",
    "plt.xlabel('Sample Number',size = 14)\n",
    "plt.show()"
   ]
  },
  {
   "cell_type": "code",
   "execution_count": 314,
   "id": "8e9ec768",
   "metadata": {},
   "outputs": [
    {
     "name": "stdout",
     "output_type": "stream",
     "text": [
      "<class 'pandas.core.frame.DataFrame'>\n",
      "DatetimeIndex: 577003 entries, 2018-11-02 18:30:23 to 2018-11-08 19:13:22\n",
      "Data columns (total 14 columns):\n",
      " #   Column         Non-Null Count   Dtype  \n",
      "---  ------         --------------   -----  \n",
      " 0   Step           577003 non-null  int64  \n",
      " 1   Status         577003 non-null  object \n",
      " 2   Prog Time      577003 non-null  object \n",
      " 3   Step Time      577003 non-null  object \n",
      " 4   Cycle          577003 non-null  int64  \n",
      " 5   Cycle Level    577003 non-null  int64  \n",
      " 6   Procedure      577003 non-null  object \n",
      " 7   Voltage        577003 non-null  float64\n",
      " 8   Current        577003 non-null  float64\n",
      " 9   Temperature    577003 non-null  float64\n",
      " 10  Capacity       577003 non-null  float64\n",
      " 11  WhAccu         577003 non-null  float64\n",
      " 12  Cnt            577003 non-null  float64\n",
      " 13  time_diff_sec  577003 non-null  float64\n",
      "dtypes: float64(7), int64(3), object(4)\n",
      "memory usage: 82.2+ MB\n"
     ]
    }
   ],
   "source": [
    "df_sorted.info()"
   ]
  },
  {
   "cell_type": "code",
   "execution_count": 317,
   "id": "84f4d6e6",
   "metadata": {},
   "outputs": [],
   "source": [
    "df_sorted['Step Time'] = pd.to_datetime(df_sorted['Step Time'], format='%H:%M:%S.%f').dt.time"
   ]
  },
  {
   "cell_type": "code",
   "execution_count": 318,
   "id": "d15c9060",
   "metadata": {
    "scrolled": true
   },
   "outputs": [
    {
     "name": "stdout",
     "output_type": "stream",
     "text": [
      "<class 'pandas.core.frame.DataFrame'>\n",
      "DatetimeIndex: 577003 entries, 2018-11-02 18:30:23 to 2018-11-08 19:13:22\n",
      "Data columns (total 14 columns):\n",
      " #   Column         Non-Null Count   Dtype  \n",
      "---  ------         --------------   -----  \n",
      " 0   Step           577003 non-null  int64  \n",
      " 1   Status         577003 non-null  object \n",
      " 2   Prog Time      577003 non-null  object \n",
      " 3   Step Time      577003 non-null  object \n",
      " 4   Cycle          577003 non-null  int64  \n",
      " 5   Cycle Level    577003 non-null  int64  \n",
      " 6   Procedure      577003 non-null  object \n",
      " 7   Voltage        577003 non-null  float64\n",
      " 8   Current        577003 non-null  float64\n",
      " 9   Temperature    577003 non-null  float64\n",
      " 10  Capacity       577003 non-null  float64\n",
      " 11  WhAccu         577003 non-null  float64\n",
      " 12  Cnt            577003 non-null  float64\n",
      " 13  time_diff_sec  577003 non-null  float64\n",
      "dtypes: float64(7), int64(3), object(4)\n",
      "memory usage: 82.2+ MB\n"
     ]
    }
   ],
   "source": [
    "df_sorted.info()"
   ]
  },
  {
   "cell_type": "code",
   "execution_count": null,
   "id": "e553fbd1",
   "metadata": {},
   "outputs": [],
   "source": []
  },
  {
   "cell_type": "code",
   "execution_count": 302,
   "id": "8a4fd835",
   "metadata": {},
   "outputs": [
    {
     "data": {
      "text/html": [
       "<div>\n",
       "<style scoped>\n",
       "    .dataframe tbody tr th:only-of-type {\n",
       "        vertical-align: middle;\n",
       "    }\n",
       "\n",
       "    .dataframe tbody tr th {\n",
       "        vertical-align: top;\n",
       "    }\n",
       "\n",
       "    .dataframe thead th {\n",
       "        text-align: right;\n",
       "    }\n",
       "</style>\n",
       "<table border=\"1\" class=\"dataframe\">\n",
       "  <thead>\n",
       "    <tr style=\"text-align: right;\">\n",
       "      <th>Time Stamp</th>\n",
       "      <th>Step</th>\n",
       "      <th>Status</th>\n",
       "      <th>Prog Time</th>\n",
       "      <th>Step Time</th>\n",
       "      <th>Cycle</th>\n",
       "      <th>Cycle Level</th>\n",
       "      <th>Procedure</th>\n",
       "      <th>Voltage</th>\n",
       "      <th>Current</th>\n",
       "      <th>Temperature</th>\n",
       "      <th>Capacity</th>\n",
       "      <th>WhAccu</th>\n",
       "      <th>Cnt</th>\n",
       "      <th>time_diff_sec</th>\n",
       "    </tr>\n",
       "  </thead>\n",
       "  <tbody>\n",
       "    <tr>\n",
       "      <th>2018-11-02 18:30:23</th>\n",
       "      <td>2</td>\n",
       "      <td>DCH</td>\n",
       "      <td>03:29:33.069</td>\n",
       "      <td>00:00:00.199</td>\n",
       "      <td>1</td>\n",
       "      <td>1</td>\n",
       "      <td>HPPC_4pulse</td>\n",
       "      <td>4.13171</td>\n",
       "      <td>-3.00106</td>\n",
       "      <td>38.17255</td>\n",
       "      <td>-0.00008</td>\n",
       "      <td>-0.00034</td>\n",
       "      <td>12.0</td>\n",
       "      <td>0.0</td>\n",
       "    </tr>\n",
       "    <tr>\n",
       "      <th>2018-11-02 18:30:23</th>\n",
       "      <td>2</td>\n",
       "      <td>DCH</td>\n",
       "      <td>03:29:32.971</td>\n",
       "      <td>00:00:00.101</td>\n",
       "      <td>1</td>\n",
       "      <td>1</td>\n",
       "      <td>HPPC_4pulse</td>\n",
       "      <td>4.14722</td>\n",
       "      <td>-3.00361</td>\n",
       "      <td>38.17255</td>\n",
       "      <td>0.00000</td>\n",
       "      <td>0.00000</td>\n",
       "      <td>12.0</td>\n",
       "      <td>0.0</td>\n",
       "    </tr>\n",
       "    <tr>\n",
       "      <th>2018-11-02 18:30:24</th>\n",
       "      <td>2</td>\n",
       "      <td>DCH</td>\n",
       "      <td>03:29:34.071</td>\n",
       "      <td>00:00:01.201</td>\n",
       "      <td>1</td>\n",
       "      <td>1</td>\n",
       "      <td>HPPC_4pulse</td>\n",
       "      <td>4.12042</td>\n",
       "      <td>-2.99850</td>\n",
       "      <td>38.17255</td>\n",
       "      <td>-0.00092</td>\n",
       "      <td>-0.00378</td>\n",
       "      <td>12.0</td>\n",
       "      <td>1.0</td>\n",
       "    </tr>\n",
       "    <tr>\n",
       "      <th>2018-11-02 18:30:24</th>\n",
       "      <td>2</td>\n",
       "      <td>DCH</td>\n",
       "      <td>03:29:33.972</td>\n",
       "      <td>00:00:01.102</td>\n",
       "      <td>1</td>\n",
       "      <td>1</td>\n",
       "      <td>HPPC_4pulse</td>\n",
       "      <td>4.12092</td>\n",
       "      <td>-2.99850</td>\n",
       "      <td>38.17255</td>\n",
       "      <td>-0.00083</td>\n",
       "      <td>-0.00343</td>\n",
       "      <td>12.0</td>\n",
       "      <td>1.0</td>\n",
       "    </tr>\n",
       "    <tr>\n",
       "      <th>2018-11-02 18:30:24</th>\n",
       "      <td>2</td>\n",
       "      <td>DCH</td>\n",
       "      <td>03:29:33.870</td>\n",
       "      <td>00:00:01.000</td>\n",
       "      <td>1</td>\n",
       "      <td>1</td>\n",
       "      <td>HPPC_4pulse</td>\n",
       "      <td>4.12126</td>\n",
       "      <td>-2.99850</td>\n",
       "      <td>38.17255</td>\n",
       "      <td>-0.00075</td>\n",
       "      <td>-0.00308</td>\n",
       "      <td>12.0</td>\n",
       "      <td>1.0</td>\n",
       "    </tr>\n",
       "    <tr>\n",
       "      <th>...</th>\n",
       "      <td>...</td>\n",
       "      <td>...</td>\n",
       "      <td>...</td>\n",
       "      <td>...</td>\n",
       "      <td>...</td>\n",
       "      <td>...</td>\n",
       "      <td>...</td>\n",
       "      <td>...</td>\n",
       "      <td>...</td>\n",
       "      <td>...</td>\n",
       "      <td>...</td>\n",
       "      <td>...</td>\n",
       "      <td>...</td>\n",
       "      <td>...</td>\n",
       "    </tr>\n",
       "    <tr>\n",
       "      <th>2018-11-08 19:09:44</th>\n",
       "      <td>4</td>\n",
       "      <td>CHA</td>\n",
       "      <td>22:01:54.804</td>\n",
       "      <td>00:06:00.001</td>\n",
       "      <td>0</td>\n",
       "      <td>0</td>\n",
       "      <td>NN_Char_Charge</td>\n",
       "      <td>4.19979</td>\n",
       "      <td>0.10216</td>\n",
       "      <td>22.92456</td>\n",
       "      <td>0.03167</td>\n",
       "      <td>0.13303</td>\n",
       "      <td>7.0</td>\n",
       "      <td>520761.0</td>\n",
       "    </tr>\n",
       "    <tr>\n",
       "      <th>2018-11-08 19:10:44</th>\n",
       "      <td>4</td>\n",
       "      <td>CHA</td>\n",
       "      <td>22:02:54.804</td>\n",
       "      <td>00:07:00.001</td>\n",
       "      <td>0</td>\n",
       "      <td>0</td>\n",
       "      <td>NN_Char_Charge</td>\n",
       "      <td>4.19979</td>\n",
       "      <td>0.08173</td>\n",
       "      <td>23.02972</td>\n",
       "      <td>0.03317</td>\n",
       "      <td>0.13932</td>\n",
       "      <td>7.0</td>\n",
       "      <td>520821.0</td>\n",
       "    </tr>\n",
       "    <tr>\n",
       "      <th>2018-11-08 19:11:44</th>\n",
       "      <td>4</td>\n",
       "      <td>CHA</td>\n",
       "      <td>22:03:54.805</td>\n",
       "      <td>00:08:00.002</td>\n",
       "      <td>0</td>\n",
       "      <td>0</td>\n",
       "      <td>NN_Char_Charge</td>\n",
       "      <td>4.19979</td>\n",
       "      <td>0.06641</td>\n",
       "      <td>23.02972</td>\n",
       "      <td>0.03439</td>\n",
       "      <td>0.14444</td>\n",
       "      <td>7.0</td>\n",
       "      <td>520881.0</td>\n",
       "    </tr>\n",
       "    <tr>\n",
       "      <th>2018-11-08 19:12:45</th>\n",
       "      <td>4</td>\n",
       "      <td>CHA</td>\n",
       "      <td>22:04:54.805</td>\n",
       "      <td>00:09:00.002</td>\n",
       "      <td>0</td>\n",
       "      <td>0</td>\n",
       "      <td>NN_Char_Charge</td>\n",
       "      <td>4.19979</td>\n",
       "      <td>0.05619</td>\n",
       "      <td>23.13488</td>\n",
       "      <td>0.03540</td>\n",
       "      <td>0.14868</td>\n",
       "      <td>7.0</td>\n",
       "      <td>520942.0</td>\n",
       "    </tr>\n",
       "    <tr>\n",
       "      <th>2018-11-08 19:13:22</th>\n",
       "      <td>4</td>\n",
       "      <td>CHA</td>\n",
       "      <td>22:05:32.758</td>\n",
       "      <td>00:09:37.955</td>\n",
       "      <td>0</td>\n",
       "      <td>0</td>\n",
       "      <td>NN_Char_Charge</td>\n",
       "      <td>4.19979</td>\n",
       "      <td>0.04853</td>\n",
       "      <td>23.02972</td>\n",
       "      <td>0.03595</td>\n",
       "      <td>0.15100</td>\n",
       "      <td>7.0</td>\n",
       "      <td>520979.0</td>\n",
       "    </tr>\n",
       "  </tbody>\n",
       "</table>\n",
       "<p>577003 rows × 14 columns</p>\n",
       "</div>"
      ],
      "text/plain": [
       "Time Stamp           Step Status     Prog Time     Step Time  Cycle  \\\n",
       "2018-11-02 18:30:23     2    DCH  03:29:33.069  00:00:00.199      1   \n",
       "2018-11-02 18:30:23     2    DCH  03:29:32.971  00:00:00.101      1   \n",
       "2018-11-02 18:30:24     2    DCH  03:29:34.071  00:00:01.201      1   \n",
       "2018-11-02 18:30:24     2    DCH  03:29:33.972  00:00:01.102      1   \n",
       "2018-11-02 18:30:24     2    DCH  03:29:33.870  00:00:01.000      1   \n",
       "...                   ...    ...           ...           ...    ...   \n",
       "2018-11-08 19:09:44     4    CHA  22:01:54.804  00:06:00.001      0   \n",
       "2018-11-08 19:10:44     4    CHA  22:02:54.804  00:07:00.001      0   \n",
       "2018-11-08 19:11:44     4    CHA  22:03:54.805  00:08:00.002      0   \n",
       "2018-11-08 19:12:45     4    CHA  22:04:54.805  00:09:00.002      0   \n",
       "2018-11-08 19:13:22     4    CHA  22:05:32.758  00:09:37.955      0   \n",
       "\n",
       "Time Stamp           Cycle Level       Procedure  Voltage  Current  \\\n",
       "2018-11-02 18:30:23            1     HPPC_4pulse  4.13171 -3.00106   \n",
       "2018-11-02 18:30:23            1     HPPC_4pulse  4.14722 -3.00361   \n",
       "2018-11-02 18:30:24            1     HPPC_4pulse  4.12042 -2.99850   \n",
       "2018-11-02 18:30:24            1     HPPC_4pulse  4.12092 -2.99850   \n",
       "2018-11-02 18:30:24            1     HPPC_4pulse  4.12126 -2.99850   \n",
       "...                          ...             ...      ...      ...   \n",
       "2018-11-08 19:09:44            0  NN_Char_Charge  4.19979  0.10216   \n",
       "2018-11-08 19:10:44            0  NN_Char_Charge  4.19979  0.08173   \n",
       "2018-11-08 19:11:44            0  NN_Char_Charge  4.19979  0.06641   \n",
       "2018-11-08 19:12:45            0  NN_Char_Charge  4.19979  0.05619   \n",
       "2018-11-08 19:13:22            0  NN_Char_Charge  4.19979  0.04853   \n",
       "\n",
       "Time Stamp           Temperature  Capacity   WhAccu   Cnt  time_diff_sec  \n",
       "2018-11-02 18:30:23     38.17255  -0.00008 -0.00034  12.0            0.0  \n",
       "2018-11-02 18:30:23     38.17255   0.00000  0.00000  12.0            0.0  \n",
       "2018-11-02 18:30:24     38.17255  -0.00092 -0.00378  12.0            1.0  \n",
       "2018-11-02 18:30:24     38.17255  -0.00083 -0.00343  12.0            1.0  \n",
       "2018-11-02 18:30:24     38.17255  -0.00075 -0.00308  12.0            1.0  \n",
       "...                          ...       ...      ...   ...            ...  \n",
       "2018-11-08 19:09:44     22.92456   0.03167  0.13303   7.0       520761.0  \n",
       "2018-11-08 19:10:44     23.02972   0.03317  0.13932   7.0       520821.0  \n",
       "2018-11-08 19:11:44     23.02972   0.03439  0.14444   7.0       520881.0  \n",
       "2018-11-08 19:12:45     23.13488   0.03540  0.14868   7.0       520942.0  \n",
       "2018-11-08 19:13:22     23.02972   0.03595  0.15100   7.0       520979.0  \n",
       "\n",
       "[577003 rows x 14 columns]"
      ]
     },
     "execution_count": 302,
     "metadata": {},
     "output_type": "execute_result"
    }
   ],
   "source": [
    "df_sorted['Prog Time'][1]-df_sorted['Prog Time'][0]"
   ]
  },
  {
   "cell_type": "code",
   "execution_count": null,
   "id": "31c66e3e",
   "metadata": {},
   "outputs": [],
   "source": []
  },
  {
   "cell_type": "code",
   "execution_count": null,
   "id": "d8db8fdb",
   "metadata": {},
   "outputs": [],
   "source": []
  }
 ],
 "metadata": {
  "kernelspec": {
   "display_name": "Python 3 (ipykernel)",
   "language": "python",
   "name": "python3"
  },
  "language_info": {
   "codemirror_mode": {
    "name": "ipython",
    "version": 3
   },
   "file_extension": ".py",
   "mimetype": "text/x-python",
   "name": "python",
   "nbconvert_exporter": "python",
   "pygments_lexer": "ipython3",
   "version": "3.9.12"
  }
 },
 "nbformat": 4,
 "nbformat_minor": 5
}
