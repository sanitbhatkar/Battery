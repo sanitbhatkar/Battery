{
 "cells": [
  {
   "cell_type": "code",
   "execution_count": 2,
   "id": "0e6263db",
   "metadata": {},
   "outputs": [],
   "source": [
    "import glob\n",
    "from collections import OrderedDict"
   ]
  },
  {
   "cell_type": "code",
   "execution_count": 3,
   "id": "7fc766a3",
   "metadata": {},
   "outputs": [],
   "source": [
    "data_path = 'G:\\Sanit_Horizontal\\Batteries\\DataSets\\LG18650\\LG_HG2_Original_Dataset_McMasterUniversity_Jan_2020'"
   ]
  },
  {
   "cell_type": "markdown",
   "id": "17b4b00f",
   "metadata": {},
   "source": [
    "# Functions"
   ]
  },
  {
   "cell_type": "markdown",
   "id": "4d2b632f",
   "metadata": {},
   "source": [
    "__Function for seprating the required cycles__"
   ]
  },
  {
   "cell_type": "code",
   "execution_count": 4,
   "id": "ec55d5d1",
   "metadata": {},
   "outputs": [],
   "source": [
    "def contain_list(file_name,list_name):\n",
    "    \n",
    "    dum = []\n",
    "    \n",
    "    for s in list_name:\n",
    "        \n",
    "        if s in file_name:\n",
    "            \n",
    "            dum = file_name\n",
    "            break     \n",
    "        \n",
    "    return(dum)"
   ]
  },
  {
   "cell_type": "markdown",
   "id": "eb67c358",
   "metadata": {},
   "source": [
    "__Function for getting only the required files__"
   ]
  },
  {
   "cell_type": "code",
   "execution_count": 5,
   "id": "5c3dcd89",
   "metadata": {},
   "outputs": [],
   "source": [
    "def csv_list_find(data_path,folder,cycle):\n",
    "    \n",
    "    \n",
    "    csv_file_path_list = []\n",
    "    csv_file_list = []\n",
    "    our_files = []\n",
    "    folder = folder\n",
    "\n",
    "    d = os.path.join(data_path,folder)\n",
    "    \n",
    "    if os.path.isdir(d):\n",
    "\n",
    "            # csv files in the path\n",
    "            csv_list = glob.glob(d + \"/*.csv\")\n",
    "            \n",
    "            for i in range(len(csv_list)):\n",
    "\n",
    "                if (contain_list(csv_list[i],cycle)!= []):\n",
    "                    \n",
    "                    our_files.append(contain_list(csv_list[i],cycle))\n",
    "        \n",
    "    return our_files"
   ]
  },
  {
   "cell_type": "markdown",
   "id": "44faabc5",
   "metadata": {},
   "source": [
    "__Function for getting the filtered list__"
   ]
  },
  {
   "cell_type": "code",
   "execution_count": 6,
   "id": "6818c128",
   "metadata": {},
   "outputs": [],
   "source": [
    "def filtered_file_list(csv_files,charge_cycle_files,test_drive_cycles):\n",
    "\n",
    "    file_path = {}\n",
    "\n",
    "    for file in csv_files:\n",
    "\n",
    "        df = pd.read_csv(file, header=[25,26], index_col=0, parse_dates=True,nrows=26)\n",
    "        file_path[str(df.first_valid_index())] = file\n",
    "\n",
    "    od = OrderedDict(sorted(file_path.items()))\n",
    "    filtered = od.copy()\n",
    "\n",
    "\n",
    "    # File rearrange code\n",
    "    \n",
    "    is_previous_charge = False\n",
    "    is_previous_discharge = False\n",
    "\n",
    "    for key, value in od.items():\n",
    "\n",
    "        if not is_previous_discharge and any(substring in value for substring in test_drive_cycles):\n",
    "            is_previous_discharge = True \n",
    "            is_previous_charge = False\n",
    "\n",
    "        elif not is_previous_charge and any(substring in value for substring in charge_cycle_files):\n",
    "            if not is_previous_charge and not is_previous_discharge:\n",
    "                filtered.pop(key)\n",
    "            is_previous_charge = True\n",
    "            is_previous_discharge = False\n",
    "\n",
    "        elif is_previous_discharge and any(substring in value for substring in test_drive_cycles):\n",
    "            filtered.pop(key)\n",
    "\n",
    "        elif is_previous_charge and any(substring in value for substring in charge_cycle_files):\n",
    "            filtered.pop(key)\n",
    "            \n",
    "    return (list(filtered.values()))"
   ]
  },
  {
   "cell_type": "markdown",
   "id": "ca32059d",
   "metadata": {},
   "source": [
    "# Main Code"
   ]
  },
  {
   "cell_type": "markdown",
   "id": "93e64f85",
   "metadata": {},
   "source": [
    "## User Inputs"
   ]
  },
  {
   "cell_type": "code",
   "execution_count": 15,
   "id": "7f25fad6",
   "metadata": {},
   "outputs": [],
   "source": [
    "# CSV files have the string mentioned in their name\n",
    "\n",
    "charge_cycle_files = ['Charge']\n",
    "\n",
    "train_temps = ['n10degC', '0degC', '10degC', '25degC']\n",
    "train_drive_cycles = ['Mixed']\n",
    "\n",
    "test_temps = ['n10degC', '0degC', '10degC', '25degC']\n",
    "# test_temps = ['25degC']\n",
    "test_drive_cycles = ['UDDS', 'HWFET', 'LA92', 'US06']\n",
    "\n",
    "vi_averages = True\n",
    "# resample_freq = 1\n",
    "resample_1hz = True"
   ]
  },
  {
   "cell_type": "markdown",
   "id": "00720637",
   "metadata": {},
   "source": [
    "## CSV file List Code"
   ]
  },
  {
   "cell_type": "code",
   "execution_count": 16,
   "id": "78d9964a",
   "metadata": {
    "scrolled": true
   },
   "outputs": [],
   "source": [
    "# # Get all CSV files\n",
    "# csv_files = csv_list_find(data_path,test_temps[0],(test_drive_cycles + charge_cycle_files))\n",
    "\n",
    "# # Filtering only the required files\n",
    "# filtered_file_path = filtered_file_list(csv_files,charge_cycle_files,test_drive_cycles)"
   ]
  },
  {
   "cell_type": "code",
   "execution_count": 35,
   "id": "23e5f952",
   "metadata": {},
   "outputs": [],
   "source": [
    "csv_files = []\n",
    "dum = []\n",
    "\n",
    "for i in range(len(test_temps)):\n",
    "    \n",
    "    dum = csv_list_find(data_path,test_temps[i],(test_drive_cycles + charge_cycle_files))\n",
    "    \n",
    "    csv_files.append(dum)\n",
    "    \n",
    "csv_files = [file_list for file in csv_files for file_list in file]"
   ]
  },
  {
   "cell_type": "code",
   "execution_count": 36,
   "id": "a8d4ea65",
   "metadata": {},
   "outputs": [],
   "source": [
    "# Filtering only the required files\n",
    "filtered_file_path = filtered_file_list(csv_files,charge_cycle_files,test_drive_cycles)"
   ]
  },
  {
   "cell_type": "code",
   "execution_count": 37,
   "id": "2f0946a5",
   "metadata": {},
   "outputs": [
    {
     "data": {
      "text/plain": [
       "['G:\\\\Sanit_Horizontal\\\\Batteries\\\\DataSets\\\\LG18650\\\\LG_HG2_Original_Dataset_McMasterUniversity_Jan_2020\\\\25degC\\\\551_UDDS.csv',\n",
       " 'G:\\\\Sanit_Horizontal\\\\Batteries\\\\DataSets\\\\LG18650\\\\LG_HG2_Original_Dataset_McMasterUniversity_Jan_2020\\\\25degC\\\\551_Charge3.csv',\n",
       " 'G:\\\\Sanit_Horizontal\\\\Batteries\\\\DataSets\\\\LG18650\\\\LG_HG2_Original_Dataset_McMasterUniversity_Jan_2020\\\\25degC\\\\551_HWFET.csv',\n",
       " 'G:\\\\Sanit_Horizontal\\\\Batteries\\\\DataSets\\\\LG18650\\\\LG_HG2_Original_Dataset_McMasterUniversity_Jan_2020\\\\25degC\\\\551_Charge4.csv',\n",
       " 'G:\\\\Sanit_Horizontal\\\\Batteries\\\\DataSets\\\\LG18650\\\\LG_HG2_Original_Dataset_McMasterUniversity_Jan_2020\\\\25degC\\\\551_LA92.csv',\n",
       " 'G:\\\\Sanit_Horizontal\\\\Batteries\\\\DataSets\\\\LG18650\\\\LG_HG2_Original_Dataset_McMasterUniversity_Jan_2020\\\\25degC\\\\551_Charge5.csv',\n",
       " 'G:\\\\Sanit_Horizontal\\\\Batteries\\\\DataSets\\\\LG18650\\\\LG_HG2_Original_Dataset_McMasterUniversity_Jan_2020\\\\25degC\\\\551_US06.csv',\n",
       " 'G:\\\\Sanit_Horizontal\\\\Batteries\\\\DataSets\\\\LG18650\\\\LG_HG2_Original_Dataset_McMasterUniversity_Jan_2020\\\\25degC\\\\551_Charge6.csv',\n",
       " 'G:\\\\Sanit_Horizontal\\\\Batteries\\\\DataSets\\\\LG18650\\\\LG_HG2_Original_Dataset_McMasterUniversity_Jan_2020\\\\10degC\\\\567_US06.csv',\n",
       " 'G:\\\\Sanit_Horizontal\\\\Batteries\\\\DataSets\\\\LG18650\\\\LG_HG2_Original_Dataset_McMasterUniversity_Jan_2020\\\\10degC\\\\567_Charge6.csv',\n",
       " 'G:\\\\Sanit_Horizontal\\\\Batteries\\\\DataSets\\\\LG18650\\\\LG_HG2_Original_Dataset_McMasterUniversity_Jan_2020\\\\10degC\\\\576_UDDS.csv',\n",
       " 'G:\\\\Sanit_Horizontal\\\\Batteries\\\\DataSets\\\\LG18650\\\\LG_HG2_Original_Dataset_McMasterUniversity_Jan_2020\\\\10degC\\\\576_Charge3.csv',\n",
       " 'G:\\\\Sanit_Horizontal\\\\Batteries\\\\DataSets\\\\LG18650\\\\LG_HG2_Original_Dataset_McMasterUniversity_Jan_2020\\\\10degC\\\\576_HWFET.csv',\n",
       " 'G:\\\\Sanit_Horizontal\\\\Batteries\\\\DataSets\\\\LG18650\\\\LG_HG2_Original_Dataset_McMasterUniversity_Jan_2020\\\\10degC\\\\576_Charge4.csv',\n",
       " 'G:\\\\Sanit_Horizontal\\\\Batteries\\\\DataSets\\\\LG18650\\\\LG_HG2_Original_Dataset_McMasterUniversity_Jan_2020\\\\10degC\\\\582_LA92.csv',\n",
       " 'G:\\\\Sanit_Horizontal\\\\Batteries\\\\DataSets\\\\LG18650\\\\LG_HG2_Original_Dataset_McMasterUniversity_Jan_2020\\\\0degC\\\\589_Charge1.csv',\n",
       " 'G:\\\\Sanit_Horizontal\\\\Batteries\\\\DataSets\\\\LG18650\\\\LG_HG2_Original_Dataset_McMasterUniversity_Jan_2020\\\\0degC\\\\589_UDDS.csv',\n",
       " 'G:\\\\Sanit_Horizontal\\\\Batteries\\\\DataSets\\\\LG18650\\\\LG_HG2_Original_Dataset_McMasterUniversity_Jan_2020\\\\0degC\\\\589_Charge3.csv',\n",
       " 'G:\\\\Sanit_Horizontal\\\\Batteries\\\\DataSets\\\\LG18650\\\\LG_HG2_Original_Dataset_McMasterUniversity_Jan_2020\\\\0degC\\\\589_HWFET.csv',\n",
       " 'G:\\\\Sanit_Horizontal\\\\Batteries\\\\DataSets\\\\LG18650\\\\LG_HG2_Original_Dataset_McMasterUniversity_Jan_2020\\\\0degC\\\\589_Charge4.csv',\n",
       " 'G:\\\\Sanit_Horizontal\\\\Batteries\\\\DataSets\\\\LG18650\\\\LG_HG2_Original_Dataset_McMasterUniversity_Jan_2020\\\\0degC\\\\589_LA92.csv',\n",
       " 'G:\\\\Sanit_Horizontal\\\\Batteries\\\\DataSets\\\\LG18650\\\\LG_HG2_Original_Dataset_McMasterUniversity_Jan_2020\\\\0degC\\\\589_Charge5.csv',\n",
       " 'G:\\\\Sanit_Horizontal\\\\Batteries\\\\DataSets\\\\LG18650\\\\LG_HG2_Original_Dataset_McMasterUniversity_Jan_2020\\\\0degC\\\\589_US06.csv',\n",
       " 'G:\\\\Sanit_Horizontal\\\\Batteries\\\\DataSets\\\\LG18650\\\\LG_HG2_Original_Dataset_McMasterUniversity_Jan_2020\\\\0degC\\\\589_Charge6.csv',\n",
       " 'G:\\\\Sanit_Horizontal\\\\Batteries\\\\DataSets\\\\LG18650\\\\LG_HG2_Original_Dataset_McMasterUniversity_Jan_2020\\\\n10degC\\\\596_UDDS.csv',\n",
       " 'G:\\\\Sanit_Horizontal\\\\Batteries\\\\DataSets\\\\LG18650\\\\LG_HG2_Original_Dataset_McMasterUniversity_Jan_2020\\\\n10degC\\\\596_Charge3.csv',\n",
       " 'G:\\\\Sanit_Horizontal\\\\Batteries\\\\DataSets\\\\LG18650\\\\LG_HG2_Original_Dataset_McMasterUniversity_Jan_2020\\\\n10degC\\\\596_HWFET.csv',\n",
       " 'G:\\\\Sanit_Horizontal\\\\Batteries\\\\DataSets\\\\LG18650\\\\LG_HG2_Original_Dataset_McMasterUniversity_Jan_2020\\\\n10degC\\\\596_Charge4.csv',\n",
       " 'G:\\\\Sanit_Horizontal\\\\Batteries\\\\DataSets\\\\LG18650\\\\LG_HG2_Original_Dataset_McMasterUniversity_Jan_2020\\\\n10degC\\\\596_LA92.csv',\n",
       " 'G:\\\\Sanit_Horizontal\\\\Batteries\\\\DataSets\\\\LG18650\\\\LG_HG2_Original_Dataset_McMasterUniversity_Jan_2020\\\\n10degC\\\\596_Charge5.csv',\n",
       " 'G:\\\\Sanit_Horizontal\\\\Batteries\\\\DataSets\\\\LG18650\\\\LG_HG2_Original_Dataset_McMasterUniversity_Jan_2020\\\\n10degC\\\\601_US06.csv',\n",
       " 'G:\\\\Sanit_Horizontal\\\\Batteries\\\\DataSets\\\\LG18650\\\\LG_HG2_Original_Dataset_McMasterUniversity_Jan_2020\\\\n10degC\\\\601_Charge6.csv']"
      ]
     },
     "execution_count": 37,
     "metadata": {},
     "output_type": "execute_result"
    }
   ],
   "source": [
    "filtered_file_path"
   ]
  },
  {
   "cell_type": "markdown",
   "id": "32694a45",
   "metadata": {},
   "source": [
    "## Normalization Code"
   ]
  },
  {
   "cell_type": "code",
   "execution_count": 38,
   "id": "e11510a2",
   "metadata": {},
   "outputs": [],
   "source": [
    "for path in filtered_file_path:\n",
    "    \n",
    "    cycle = pd.read_csv(path, header=[25,26], index_col=0, parse_dates=True)\n",
    "    cycle.drop(cycle.columns[-1],axis=1,inplace=True)\n",
    "    cycle.columns = cycle.columns.droplevel(-1)\n",
    "\n",
    "    # leave out 'PAU' rows from the cycle\n",
    "    options = ['CHA', 'DCH', 'TABLE']\n",
    "    cycle = cycle[cycle['Status'].isin(options)]\n",
    "\n",
    "    # calculate 'Power'\n",
    "    cycle['Power'] = cycle['Voltage'] * cycle['Current']\n",
    "\n",
    "    # calculate SOC Percentage + downsample discharge cycles, upsample charge cycles\n",
    "    # - DISCHARGE FILES\n",
    "    if any(substring in path for substring in test_drive_cycles):\n",
    "        max_discharge = abs(min(cycle['Capacity']))\n",
    "        cycle['SoC Percentage'] = (cycle['Capacity'] + max_discharge)/max_discharge\n",
    "\n",
    "\n",
    "        if resample_1hz:\n",
    "            cycle = cycle.resample('1S').first()\n",
    "\n",
    "    # - CHARGE FILES\n",
    "    elif any(substring in path for substring in charge_cycle_files):\n",
    "        max_charge = abs(max(cycle['Capacity']))\n",
    "        cycle['SoC Percentage'] = (cycle['Capacity'])/max_charge\n",
    "\n",
    "        if resample_1hz:\n",
    "            cycle = cycle[~cycle.index.duplicated(keep='first')]\n",
    "            cycle = cycle.resample('1S').ffill()\n",
    "\n",
    "\n",
    "    # select required features\n",
    "    parameters = cycle[['Voltage', 'Current', 'Temperature', 'Power', 'SoC Percentage']].copy()\n",
    "\n",
    "    # calculate 'Voltage', 'Current' and 'Power' averages\n",
    "    # 500 second rolling window which translates to rougly 500 data points for resampled data and 5000 for raw data\n",
    "    rolling_window = 5000\n",
    "    if vi_averages and resample_1hz:\n",
    "      rolling_window = int(rolling_window / 10)\n",
    "\n",
    "    if vi_averages:\n",
    "      parameters['Voltage Average'] = parameters['Voltage'].rolling(rolling_window).mean()\n",
    "      parameters['Current Average'] = parameters['Current'].rolling(rolling_window).mean()\n",
    "      parameters['Power Average'] = parameters['Power'].rolling(rolling_window).mean()\n",
    "\n",
    "    parameters.dropna(inplace = True)\n",
    "    parameters.reset_index(drop=True, inplace=True)\n",
    "    \n",
    "    # merge datasets\n",
    "    try:\n",
    "        merged = pd.concat([merged, parameters], ignore_index=True)\n",
    "    except:\n",
    "        merged = parameters.copy()\n",
    "        \n",
    "        \n",
    "# scale (normalize) the dataset using mean normalization\n",
    "merged_norm = (merged-merged.mean())/merged.std()\n",
    "# min-max normalization\n",
    "# merged_norm = (merged - merged.min())/(merged.max() - merged.min())"
   ]
  },
  {
   "cell_type": "code",
   "execution_count": 39,
   "id": "6b735055",
   "metadata": {},
   "outputs": [
    {
     "data": {
      "text/html": [
       "<div>\n",
       "<style scoped>\n",
       "    .dataframe tbody tr th:only-of-type {\n",
       "        vertical-align: middle;\n",
       "    }\n",
       "\n",
       "    .dataframe tbody tr th {\n",
       "        vertical-align: top;\n",
       "    }\n",
       "\n",
       "    .dataframe thead th {\n",
       "        text-align: right;\n",
       "    }\n",
       "</style>\n",
       "<table border=\"1\" class=\"dataframe\">\n",
       "  <thead>\n",
       "    <tr style=\"text-align: right;\">\n",
       "      <th>Time Stamp</th>\n",
       "      <th>Voltage</th>\n",
       "      <th>Current</th>\n",
       "      <th>Temperature</th>\n",
       "      <th>Power</th>\n",
       "      <th>SoC Percentage</th>\n",
       "      <th>Voltage Average</th>\n",
       "      <th>Current Average</th>\n",
       "      <th>Power Average</th>\n",
       "    </tr>\n",
       "  </thead>\n",
       "  <tbody>\n",
       "    <tr>\n",
       "      <th>0</th>\n",
       "      <td>1.094481</td>\n",
       "      <td>1.079386</td>\n",
       "      <td>0.667211</td>\n",
       "      <td>1.194138</td>\n",
       "      <td>1.229243</td>\n",
       "      <td>0.965052</td>\n",
       "      <td>-0.503850</td>\n",
       "      <td>-0.587594</td>\n",
       "    </tr>\n",
       "    <tr>\n",
       "      <th>1</th>\n",
       "      <td>1.112972</td>\n",
       "      <td>1.158881</td>\n",
       "      <td>0.667211</td>\n",
       "      <td>1.286943</td>\n",
       "      <td>1.230234</td>\n",
       "      <td>0.964994</td>\n",
       "      <td>-0.500527</td>\n",
       "      <td>-0.583908</td>\n",
       "    </tr>\n",
       "    <tr>\n",
       "      <th>2</th>\n",
       "      <td>1.083274</td>\n",
       "      <td>0.955375</td>\n",
       "      <td>0.667211</td>\n",
       "      <td>1.051214</td>\n",
       "      <td>1.231069</td>\n",
       "      <td>0.964880</td>\n",
       "      <td>-0.497732</td>\n",
       "      <td>-0.580813</td>\n",
       "    </tr>\n",
       "    <tr>\n",
       "      <th>3</th>\n",
       "      <td>1.035052</td>\n",
       "      <td>0.659655</td>\n",
       "      <td>0.667211</td>\n",
       "      <td>0.710179</td>\n",
       "      <td>1.231643</td>\n",
       "      <td>0.964663</td>\n",
       "      <td>-0.495781</td>\n",
       "      <td>-0.578660</td>\n",
       "    </tr>\n",
       "    <tr>\n",
       "      <th>4</th>\n",
       "      <td>1.012637</td>\n",
       "      <td>0.528225</td>\n",
       "      <td>0.667211</td>\n",
       "      <td>0.559323</td>\n",
       "      <td>1.232100</td>\n",
       "      <td>0.964397</td>\n",
       "      <td>-0.494206</td>\n",
       "      <td>-0.576924</td>\n",
       "    </tr>\n",
       "  </tbody>\n",
       "</table>\n",
       "</div>"
      ],
      "text/plain": [
       "Time Stamp   Voltage   Current  Temperature     Power  SoC Percentage  \\\n",
       "0           1.094481  1.079386     0.667211  1.194138        1.229243   \n",
       "1           1.112972  1.158881     0.667211  1.286943        1.230234   \n",
       "2           1.083274  0.955375     0.667211  1.051214        1.231069   \n",
       "3           1.035052  0.659655     0.667211  0.710179        1.231643   \n",
       "4           1.012637  0.528225     0.667211  0.559323        1.232100   \n",
       "\n",
       "Time Stamp  Voltage Average  Current Average  Power Average  \n",
       "0                  0.965052        -0.503850      -0.587594  \n",
       "1                  0.964994        -0.500527      -0.583908  \n",
       "2                  0.964880        -0.497732      -0.580813  \n",
       "3                  0.964663        -0.495781      -0.578660  \n",
       "4                  0.964397        -0.494206      -0.576924  "
      ]
     },
     "execution_count": 39,
     "metadata": {},
     "output_type": "execute_result"
    }
   ],
   "source": [
    "merged_norm.head()"
   ]
  },
  {
   "cell_type": "code",
   "execution_count": 41,
   "id": "56fc4696",
   "metadata": {},
   "outputs": [
    {
     "data": {
      "text/plain": [
       "[<matplotlib.lines.Line2D at 0x1bdaeccd0d0>]"
      ]
     },
     "execution_count": 41,
     "metadata": {},
     "output_type": "execute_result"
    },
    {
     "data": {
      "image/png": "[encoded data removed]",
      "text/plain": [
       "<Figure size 640x480 with 1 Axes>"
      ]
     },
     "metadata": {},
     "output_type": "display_data"
    }
   ],
   "source": [
    "plt.plot(merged_norm['SoC Percentage'])"
   ]
  },
  {
   "cell_type": "code",
   "execution_count": null,
   "id": "847336a4",
   "metadata": {},
   "outputs": [],
   "source": []
  }
 ],
 "metadata": {
  "kernelspec": {
   "display_name": "Python 3 (ipykernel)",
   "language": "python",
   "name": "python3"
  },
  "language_info": {
   "codemirror_mode": {
    "name": "ipython",
    "version": 3
   },
   "file_extension": ".py",
   "mimetype": "text/x-python",
   "name": "python",
   "nbconvert_exporter": "python",
   "pygments_lexer": "ipython3",
   "version": "3.9.16"
  }
 },
 "nbformat": 4,
 "nbformat_minor": 5
}
