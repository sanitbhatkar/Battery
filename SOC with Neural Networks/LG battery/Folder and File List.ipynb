{
 "cells": [
  {
   "cell_type": "code",
   "execution_count": 1,
   "id": "0e6263db",
   "metadata": {},
   "outputs": [],
   "source": [
    "import glob\n",
    "from collections import OrderedDict"
   ]
  },
  {
   "cell_type": "code",
   "execution_count": 2,
   "id": "7fc766a3",
   "metadata": {},
   "outputs": [],
   "source": [
    "data_path = 'G:\\Sanit_Horizontal\\Batteries\\DataSets\\LG18650\\LG_HG2_Original_Dataset_McMasterUniversity_Jan_2020'"
   ]
  },
  {
   "cell_type": "markdown",
   "id": "17b4b00f",
   "metadata": {},
   "source": [
    "# Functions"
   ]
  },
  {
   "cell_type": "markdown",
   "id": "4d2b632f",
   "metadata": {},
   "source": [
    "__Function for seprating the required cycles__"
   ]
  },
  {
   "cell_type": "code",
   "execution_count": 3,
   "id": "ec55d5d1",
   "metadata": {},
   "outputs": [],
   "source": [
    "def contain_list(file_name,list_name):\n",
    "    \n",
    "    dum = []\n",
    "    \n",
    "    for s in list_name:\n",
    "        \n",
    "        if s in file_name:\n",
    "            \n",
    "            dum = file_name\n",
    "            break     \n",
    "        \n",
    "    return(dum)"
   ]
  },
  {
   "cell_type": "markdown",
   "id": "eb67c358",
   "metadata": {},
   "source": [
    "__Function for getting only the required files__"
   ]
  },
  {
   "cell_type": "code",
   "execution_count": 4,
   "id": "5c3dcd89",
   "metadata": {},
   "outputs": [],
   "source": [
    "def csv_list_find(data_path,folder,cycle):\n",
    "    \n",
    "    \n",
    "    csv_file_path_list = []\n",
    "    csv_file_list = []\n",
    "    our_files = []\n",
    "    folder = folder\n",
    "\n",
    "    d = os.path.join(data_path,folder)\n",
    "    \n",
    "    if os.path.isdir(d):\n",
    "\n",
    "            # csv files in the path\n",
    "            csv_list = glob.glob(d + \"/*.csv\")\n",
    "            \n",
    "            for i in range(len(csv_list)):\n",
    "\n",
    "                if (contain_list(csv_list[i],cycle)!= []):\n",
    "                    \n",
    "                    our_files.append(contain_list(csv_list[i],cycle))\n",
    "        \n",
    "    return our_files"
   ]
  },
  {
   "cell_type": "markdown",
   "id": "44faabc5",
   "metadata": {},
   "source": [
    "__Function for getting the filtered list__"
   ]
  },
  {
   "cell_type": "code",
   "execution_count": 5,
   "id": "6818c128",
   "metadata": {},
   "outputs": [],
   "source": [
    "def filtered_file_list(csv_files,charge_cycle_files,test_drive_cycles):\n",
    "\n",
    "    file_path = {}\n",
    "\n",
    "    for file in csv_files:\n",
    "\n",
    "        df = pd.read_csv(file, header=[25,26], index_col=0, parse_dates=True,nrows=26)\n",
    "        file_path[str(df.first_valid_index())] = file\n",
    "\n",
    "    od = OrderedDict(sorted(file_path.items()))\n",
    "    filtered = od.copy()\n",
    "\n",
    "\n",
    "    # File rearrange code\n",
    "    \n",
    "    is_previous_charge = False\n",
    "    is_previous_discharge = False\n",
    "\n",
    "    for key, value in od.items():\n",
    "\n",
    "        if not is_previous_discharge and any(substring in value for substring in test_drive_cycles):\n",
    "            is_previous_discharge = True \n",
    "            is_previous_charge = False\n",
    "\n",
    "        elif not is_previous_charge and any(substring in value for substring in charge_cycle_files):\n",
    "            if not is_previous_charge and not is_previous_discharge:\n",
    "                filtered.pop(key)\n",
    "            is_previous_charge = True\n",
    "            is_previous_discharge = False\n",
    "\n",
    "        elif is_previous_discharge and any(substring in value for substring in test_drive_cycles):\n",
    "            filtered.pop(key)\n",
    "\n",
    "        elif is_previous_charge and any(substring in value for substring in charge_cycle_files):\n",
    "            filtered.pop(key)\n",
    "            \n",
    "    return (list(filtered.values()))"
   ]
  },
  {
   "cell_type": "markdown",
   "id": "ca32059d",
   "metadata": {},
   "source": [
    "# Main Code"
   ]
  },
  {
   "cell_type": "markdown",
   "id": "93e64f85",
   "metadata": {},
   "source": [
    "## User Inputs"
   ]
  },
  {
   "cell_type": "code",
   "execution_count": 6,
   "id": "7f25fad6",
   "metadata": {},
   "outputs": [],
   "source": [
    "# CSV files have the string mentioned in their name\n",
    "\n",
    "charge_cycle_files = ['Charge']\n",
    "\n",
    "train_temps = ['n10degC', '0degC', '10degC', '25degC']\n",
    "train_drive_cycles = ['Mixed']\n",
    "\n",
    "test_temps = ['n10degC', '0degC', '10degC', '25degC']\n",
    "test_temps = ['25degC']\n",
    "test_drive_cycles = ['UDDS', 'HWFET', 'LA92', 'US06']\n",
    "\n",
    "vi_averages = True\n",
    "# resample_freq = 1\n",
    "resample_1hz = True"
   ]
  },
  {
   "cell_type": "markdown",
   "id": "00720637",
   "metadata": {},
   "source": [
    "## CSV file List Code"
   ]
  },
  {
   "cell_type": "code",
   "execution_count": 7,
   "id": "78d9964a",
   "metadata": {
    "scrolled": true
   },
   "outputs": [],
   "source": [
    "# Get all CSV files\n",
    "csv_files = csv_list_find(data_path,test_temps[0],(test_drive_cycles + charge_cycle_files))\n",
    "\n",
    "# Filtering only the required files\n",
    "filtered_file_path = filtered_file_list(csv_files,charge_cycle_files,test_drive_cycles)"
   ]
  },
  {
   "cell_type": "code",
   "execution_count": 8,
   "id": "2f0946a5",
   "metadata": {},
   "outputs": [
    {
     "data": {
      "text/plain": [
       "['G:\\\\Sanit_Horizontal\\\\Batteries\\\\DataSets\\\\LG18650\\\\LG_HG2_Original_Dataset_McMasterUniversity_Jan_2020\\\\25degC\\\\551_UDDS.csv',\n",
       " 'G:\\\\Sanit_Horizontal\\\\Batteries\\\\DataSets\\\\LG18650\\\\LG_HG2_Original_Dataset_McMasterUniversity_Jan_2020\\\\25degC\\\\551_Charge3.csv',\n",
       " 'G:\\\\Sanit_Horizontal\\\\Batteries\\\\DataSets\\\\LG18650\\\\LG_HG2_Original_Dataset_McMasterUniversity_Jan_2020\\\\25degC\\\\551_HWFET.csv',\n",
       " 'G:\\\\Sanit_Horizontal\\\\Batteries\\\\DataSets\\\\LG18650\\\\LG_HG2_Original_Dataset_McMasterUniversity_Jan_2020\\\\25degC\\\\551_Charge4.csv',\n",
       " 'G:\\\\Sanit_Horizontal\\\\Batteries\\\\DataSets\\\\LG18650\\\\LG_HG2_Original_Dataset_McMasterUniversity_Jan_2020\\\\25degC\\\\551_LA92.csv',\n",
       " 'G:\\\\Sanit_Horizontal\\\\Batteries\\\\DataSets\\\\LG18650\\\\LG_HG2_Original_Dataset_McMasterUniversity_Jan_2020\\\\25degC\\\\551_Charge5.csv',\n",
       " 'G:\\\\Sanit_Horizontal\\\\Batteries\\\\DataSets\\\\LG18650\\\\LG_HG2_Original_Dataset_McMasterUniversity_Jan_2020\\\\25degC\\\\551_US06.csv',\n",
       " 'G:\\\\Sanit_Horizontal\\\\Batteries\\\\DataSets\\\\LG18650\\\\LG_HG2_Original_Dataset_McMasterUniversity_Jan_2020\\\\25degC\\\\551_Charge6.csv']"
      ]
     },
     "execution_count": 8,
     "metadata": {},
     "output_type": "execute_result"
    }
   ],
   "source": [
    "filtered_file_path"
   ]
  },
  {
   "cell_type": "markdown",
   "id": "32694a45",
   "metadata": {},
   "source": [
    "## Normalization Code"
   ]
  },
  {
   "cell_type": "code",
   "execution_count": 9,
   "id": "e11510a2",
   "metadata": {},
   "outputs": [],
   "source": [
    "for path in filtered_file_path:\n",
    "    \n",
    "    cycle = pd.read_csv(path, header=[25,26], index_col=0, parse_dates=True)\n",
    "    cycle.drop(cycle.columns[-1],axis=1,inplace=True)\n",
    "    cycle.columns = cycle.columns.droplevel(-1)\n",
    "\n",
    "    # leave out 'PAU' rows from the cycle\n",
    "    options = ['CHA', 'DCH', 'TABLE']\n",
    "    cycle = cycle[cycle['Status'].isin(options)]\n",
    "\n",
    "    # calculate 'Power'\n",
    "    cycle['Power'] = cycle['Voltage'] * cycle['Current']\n",
    "\n",
    "    # calculate SOC Percentage + downsample discharge cycles, upsample charge cycles\n",
    "    # - DISCHARGE FILES\n",
    "    if any(substring in path for substring in test_drive_cycles):\n",
    "        max_discharge = abs(min(cycle['Capacity']))\n",
    "        cycle['SoC Percentage'] = (cycle['Capacity'] + max_discharge)/max_discharge\n",
    "\n",
    "\n",
    "        if resample_1hz:\n",
    "            cycle = cycle.resample('1S').first()\n",
    "\n",
    "    # - CHARGE FILES\n",
    "    elif any(substring in path for substring in charge_cycle_files):\n",
    "        max_charge = abs(max(cycle['Capacity']))\n",
    "        cycle['SoC Percentage'] = (cycle['Capacity'])/max_charge\n",
    "\n",
    "        if resample_1hz:\n",
    "            cycle = cycle[~cycle.index.duplicated(keep='first')]\n",
    "            cycle = cycle.resample('1S').ffill()\n",
    "\n",
    "\n",
    "    # select required features\n",
    "    parameters = cycle[['Voltage', 'Current', 'Temperature', 'Power', 'SoC Percentage']].copy()\n",
    "\n",
    "    # calculate 'Voltage', 'Current' and 'Power' averages\n",
    "    # 500 second rolling window which translates to rougly 500 data points for resampled data and 5000 for raw data\n",
    "    rolling_window = 5000\n",
    "    if vi_averages and resample_1hz:\n",
    "      rolling_window = int(rolling_window / 10)\n",
    "\n",
    "    if vi_averages:\n",
    "      parameters['Voltage Average'] = parameters['Voltage'].rolling(rolling_window).mean()\n",
    "      parameters['Current Average'] = parameters['Current'].rolling(rolling_window).mean()\n",
    "      parameters['Power Average'] = parameters['Power'].rolling(rolling_window).mean()\n",
    "\n",
    "    parameters.dropna(inplace = True)\n",
    "    parameters.reset_index(drop=True, inplace=True)\n",
    "    \n",
    "    # merge datasets\n",
    "    try:\n",
    "        merged = pd.concat([merged, parameters], ignore_index=True)\n",
    "    except:\n",
    "        merged = parameters.copy()\n",
    "        \n",
    "        \n",
    "# scale (normalize) the dataset using mean normalization\n",
    "merged_norm = (merged-merged.mean())/merged.std()\n",
    "# min-max normalization\n",
    "# merged_norm = (merged - merged.min())/(merged.max() - merged.min())"
   ]
  },
  {
   "cell_type": "code",
   "execution_count": 10,
   "id": "6b735055",
   "metadata": {},
   "outputs": [
    {
     "data": {
      "text/html": [
       "<div>\n",
       "<style scoped>\n",
       "    .dataframe tbody tr th:only-of-type {\n",
       "        vertical-align: middle;\n",
       "    }\n",
       "\n",
       "    .dataframe tbody tr th {\n",
       "        vertical-align: top;\n",
       "    }\n",
       "\n",
       "    .dataframe thead th {\n",
       "        text-align: right;\n",
       "    }\n",
       "</style>\n",
       "<table border=\"1\" class=\"dataframe\">\n",
       "  <thead>\n",
       "    <tr style=\"text-align: right;\">\n",
       "      <th>Time Stamp</th>\n",
       "      <th>Voltage</th>\n",
       "      <th>Current</th>\n",
       "      <th>Temperature</th>\n",
       "      <th>Power</th>\n",
       "      <th>SoC Percentage</th>\n",
       "      <th>Voltage Average</th>\n",
       "      <th>Current Average</th>\n",
       "      <th>Power Average</th>\n",
       "    </tr>\n",
       "  </thead>\n",
       "  <tbody>\n",
       "    <tr>\n",
       "      <th>0</th>\n",
       "      <td>1.157878</td>\n",
       "      <td>1.052095</td>\n",
       "      <td>-0.709327</td>\n",
       "      <td>1.160314</td>\n",
       "      <td>1.261507</td>\n",
       "      <td>1.001369</td>\n",
       "      <td>-0.541398</td>\n",
       "      <td>-0.610492</td>\n",
       "    </tr>\n",
       "    <tr>\n",
       "      <th>1</th>\n",
       "      <td>1.177307</td>\n",
       "      <td>1.130004</td>\n",
       "      <td>-0.709327</td>\n",
       "      <td>1.250295</td>\n",
       "      <td>1.262495</td>\n",
       "      <td>1.001309</td>\n",
       "      <td>-0.537922</td>\n",
       "      <td>-0.606666</td>\n",
       "    </tr>\n",
       "    <tr>\n",
       "      <th>2</th>\n",
       "      <td>1.146102</td>\n",
       "      <td>0.930558</td>\n",
       "      <td>-0.709327</td>\n",
       "      <td>1.021740</td>\n",
       "      <td>1.263327</td>\n",
       "      <td>1.001192</td>\n",
       "      <td>-0.534997</td>\n",
       "      <td>-0.603454</td>\n",
       "    </tr>\n",
       "    <tr>\n",
       "      <th>3</th>\n",
       "      <td>1.095432</td>\n",
       "      <td>0.640739</td>\n",
       "      <td>-0.709327</td>\n",
       "      <td>0.691085</td>\n",
       "      <td>1.263899</td>\n",
       "      <td>1.000967</td>\n",
       "      <td>-0.532957</td>\n",
       "      <td>-0.601219</td>\n",
       "    </tr>\n",
       "    <tr>\n",
       "      <th>4</th>\n",
       "      <td>1.071880</td>\n",
       "      <td>0.511931</td>\n",
       "      <td>-0.709327</td>\n",
       "      <td>0.544820</td>\n",
       "      <td>1.264354</td>\n",
       "      <td>1.000693</td>\n",
       "      <td>-0.531310</td>\n",
       "      <td>-0.599418</td>\n",
       "    </tr>\n",
       "  </tbody>\n",
       "</table>\n",
       "</div>"
      ],
      "text/plain": [
       "Time Stamp   Voltage   Current  Temperature     Power  SoC Percentage  \\\n",
       "0           1.157878  1.052095    -0.709327  1.160314        1.261507   \n",
       "1           1.177307  1.130004    -0.709327  1.250295        1.262495   \n",
       "2           1.146102  0.930558    -0.709327  1.021740        1.263327   \n",
       "3           1.095432  0.640739    -0.709327  0.691085        1.263899   \n",
       "4           1.071880  0.511931    -0.709327  0.544820        1.264354   \n",
       "\n",
       "Time Stamp  Voltage Average  Current Average  Power Average  \n",
       "0                  1.001369        -0.541398      -0.610492  \n",
       "1                  1.001309        -0.537922      -0.606666  \n",
       "2                  1.001192        -0.534997      -0.603454  \n",
       "3                  1.000967        -0.532957      -0.601219  \n",
       "4                  1.000693        -0.531310      -0.599418  "
      ]
     },
     "execution_count": 10,
     "metadata": {},
     "output_type": "execute_result"
    }
   ],
   "source": [
    "merged_norm.head()"
   ]
  },
  {
   "cell_type": "code",
   "execution_count": 11,
   "id": "56fc4696",
   "metadata": {},
   "outputs": [
    {
     "data": {
      "text/plain": [
       "[<matplotlib.lines.Line2D at 0x1a162392fd0>]"
      ]
     },
     "execution_count": 11,
     "metadata": {},
     "output_type": "execute_result"
    },
    {
     "data": {
      "image/png": "[encoded data removed]",
      "text/plain": [
       "<Figure size 640x480 with 1 Axes>"
      ]
     },
     "metadata": {},
     "output_type": "display_data"
    }
   ],
   "source": [
    "plt.plot(merged_norm['Temperature'])"
   ]
  },
  {
   "cell_type": "code",
   "execution_count": null,
   "id": "847336a4",
   "metadata": {},
   "outputs": [],
   "source": []
  }
 ],
 "metadata": {
  "kernelspec": {
   "display_name": "Python 3 (ipykernel)",
   "language": "python",
   "name": "python3"
  },
  "language_info": {
   "codemirror_mode": {
    "name": "ipython",
    "version": 3
   },
   "file_extension": ".py",
   "mimetype": "text/x-python",
   "name": "python",
   "nbconvert_exporter": "python",
   "pygments_lexer": "ipython3",
   "version": "3.9.16"
  }
 },
 "nbformat": 4,
 "nbformat_minor": 5
}
